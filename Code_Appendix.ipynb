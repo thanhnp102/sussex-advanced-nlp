{
  "cells": [
    {
      "cell_type": "markdown",
      "metadata": {
        "id": "vn7bSHZM82Xs"
      },
      "source": [
        "# Propaganda Detection: Code Appendix"
      ]
    },
    {
      "cell_type": "markdown",
      "metadata": {
        "id": "r5x1PdNZDU5o"
      },
      "source": [
        "This is the code appendix for the Propaganda Detection tasks."
      ]
    },
    {
      "cell_type": "code",
      "execution_count": 1,
      "metadata": {
        "id": "fRfzZEwL8lv4"
      },
      "outputs": [],
      "source": [
        "candidate_number = 111111"
      ]
    },
    {
      "cell_type": "markdown",
      "metadata": {
        "id": "CrBHyDZICuNM"
      },
      "source": [
        "## Setting up"
      ]
    },
    {
      "cell_type": "markdown",
      "metadata": {
        "id": "kXQU7fbb9lhD"
      },
      "source": [
        "In this notebook, we will investigate solutions for Propaganda Detection problem.\n",
        "\n",
        "First, let's load the provided training dataset."
      ]
    },
    {
      "cell_type": "code",
      "execution_count": 2,
      "metadata": {
        "id": "QU1YxrjGFEFD"
      },
      "outputs": [],
      "source": [
        "import os\n",
        "from tqdm import tqdm\n",
        "import warnings\n",
        "warnings.filterwarnings(\"ignore\")"
      ]
    },
    {
      "cell_type": "code",
      "execution_count": 3,
      "metadata": {
        "id": "v3E18vPqFEFD"
      },
      "outputs": [],
      "source": [
        "# Uncomment and change path if using Colab\n",
        "\n",
        "# from google.colab import drive\n",
        "# drive.mount(\"/content/drive\")\n",
        "\n",
        "# parentdir = \"/content/drive/MyDrive/Advanced NLP/Report A2/propaganda_dataset_v2\"\n",
        "parentdir = \"propaganda_dataset_v2\""
      ]
    },
    {
      "cell_type": "code",
      "execution_count": 4,
      "metadata": {
        "id": "-e7ZBfH39R_p"
      },
      "outputs": [],
      "source": [
        "train_file = \"propaganda_train.tsv\"\n",
        "train_path=os.path.join(parentdir,train_file)\n",
        "\n",
        "test_file = \"propaganda_val.tsv\"\n",
        "test_path=os.path.join(parentdir,test_file)"
      ]
    },
    {
      "cell_type": "code",
      "execution_count": 5,
      "metadata": {
        "id": "9fZwWJNu_9i_"
      },
      "outputs": [],
      "source": [
        "import pandas as pd\n",
        "train_df = pd.read_csv(train_path,delimiter=\"\\t\",quotechar='|')\n",
        "test_df = pd.read_csv(test_path,delimiter=\"\\t\",quotechar='|')"
      ]
    },
    {
      "cell_type": "code",
      "execution_count": 6,
      "metadata": {
        "colab": {
          "base_uri": "https://localhost:8080/",
          "height": 677
        },
        "id": "pjUzOAJ1LvI6",
        "outputId": "ab232c35-c2c2-4eb6-aab6-4d0506e7d19b"
      },
      "outputs": [
        {
          "data": {
            "text/html": [
              "<div>\n",
              "<style scoped>\n",
              "    .dataframe tbody tr th:only-of-type {\n",
              "        vertical-align: middle;\n",
              "    }\n",
              "\n",
              "    .dataframe tbody tr th {\n",
              "        vertical-align: top;\n",
              "    }\n",
              "\n",
              "    .dataframe thead th {\n",
              "        text-align: right;\n",
              "    }\n",
              "</style>\n",
              "<table border=\"1\" class=\"dataframe\">\n",
              "  <thead>\n",
              "    <tr style=\"text-align: right;\">\n",
              "      <th></th>\n",
              "      <th>label</th>\n",
              "      <th>tagged_in_context</th>\n",
              "    </tr>\n",
              "  </thead>\n",
              "  <tbody>\n",
              "    <tr>\n",
              "      <th>0</th>\n",
              "      <td>not_propaganda</td>\n",
              "      <td>No, &lt;BOS&gt; he &lt;EOS&gt; will not be confirmed.</td>\n",
              "    </tr>\n",
              "    <tr>\n",
              "      <th>1</th>\n",
              "      <td>not_propaganda</td>\n",
              "      <td>This declassification effort &lt;BOS&gt; won’t make ...</td>\n",
              "    </tr>\n",
              "    <tr>\n",
              "      <th>2</th>\n",
              "      <td>flag_waving</td>\n",
              "      <td>\"The Obama administration misled the &lt;BOS&gt; Ame...</td>\n",
              "    </tr>\n",
              "    <tr>\n",
              "      <th>3</th>\n",
              "      <td>not_propaganda</td>\n",
              "      <td>“It looks like we’re capturing the demise of t...</td>\n",
              "    </tr>\n",
              "    <tr>\n",
              "      <th>4</th>\n",
              "      <td>not_propaganda</td>\n",
              "      <td>&lt;BOS&gt; Location: Westerville, Ohio &lt;EOS&gt;</td>\n",
              "    </tr>\n",
              "  </tbody>\n",
              "</table>\n",
              "</div>"
            ],
            "text/plain": [
              "            label                                  tagged_in_context\n",
              "0  not_propaganda         No, <BOS> he <EOS> will not be confirmed. \n",
              "1  not_propaganda  This declassification effort <BOS> won’t make ...\n",
              "2     flag_waving  \"The Obama administration misled the <BOS> Ame...\n",
              "3  not_propaganda  “It looks like we’re capturing the demise of t...\n",
              "4  not_propaganda           <BOS> Location: Westerville, Ohio <EOS> "
            ]
          },
          "execution_count": 6,
          "metadata": {},
          "output_type": "execute_result"
        }
      ],
      "source": [
        "train_df.head()"
      ]
    },
    {
      "cell_type": "markdown",
      "metadata": {
        "id": "dCzF0o02AnK3"
      },
      "source": [
        "As described, the data contains 2 columns:\n",
        "- label: represent the correspoding propaganda technique or \"not_propaganda\"\n",
        "- tagged_in_context: text in the Propaganda Techniques Corpus (Da San Martino et al., 2020) with \\<BOS\\> and \\<EOS\\> tags indicating the propaganda snippet\n",
        "\n",
        "To address the Propaganda Detection problem, we need to solve 2 separated task:\n",
        "1. Build a classifier to detect whether a sentence contains propaganda or not.\n",
        "2. Given a snippet or span of text which is known to contain propaganda, build a classifier to classify the propaganda technique which has been used."
      ]
    },
    {
      "cell_type": "markdown",
      "metadata": {
        "id": "CTab6xuNqaVP"
      },
      "source": [
        "## Data Analysis"
      ]
    },
    {
      "cell_type": "code",
      "execution_count": 7,
      "metadata": {
        "id": "U1fnsQGsqaVP",
        "outputId": "289b2882-b44e-4d77-a024-fc9bc6784252"
      },
      "outputs": [
        {
          "name": "stdout",
          "output_type": "stream",
          "text": [
            "The number of instances in the training set is 2560\n",
            "The number of instances in the testing set is 640\n"
          ]
        }
      ],
      "source": [
        "print(f\"The number of instances in the training set is {train_df.shape[0]}\")\n",
        "print(f\"The number of instances in the testing set is {test_df.shape[0]}\")"
      ]
    },
    {
      "cell_type": "code",
      "execution_count": 8,
      "metadata": {
        "id": "r1-VW0gVqaVP",
        "outputId": "5c426cc6-5b64-4be6-f66f-8a0ebc120af5"
      },
      "outputs": [
        {
          "data": {
            "text/html": [
              "<div>\n",
              "<style scoped>\n",
              "    .dataframe tbody tr th:only-of-type {\n",
              "        vertical-align: middle;\n",
              "    }\n",
              "\n",
              "    .dataframe tbody tr th {\n",
              "        vertical-align: top;\n",
              "    }\n",
              "\n",
              "    .dataframe thead th {\n",
              "        text-align: right;\n",
              "    }\n",
              "</style>\n",
              "<table border=\"1\" class=\"dataframe\">\n",
              "  <thead>\n",
              "    <tr style=\"text-align: right;\">\n",
              "      <th></th>\n",
              "      <th>label</th>\n",
              "      <th># of sentences</th>\n",
              "      <th>% of sentences</th>\n",
              "    </tr>\n",
              "  </thead>\n",
              "  <tbody>\n",
              "    <tr>\n",
              "      <th>0</th>\n",
              "      <td>appeal_to_fear_prejudice</td>\n",
              "      <td>157</td>\n",
              "      <td>0.061328</td>\n",
              "    </tr>\n",
              "    <tr>\n",
              "      <th>1</th>\n",
              "      <td>causal_oversimplification</td>\n",
              "      <td>165</td>\n",
              "      <td>0.064453</td>\n",
              "    </tr>\n",
              "    <tr>\n",
              "      <th>2</th>\n",
              "      <td>doubt</td>\n",
              "      <td>157</td>\n",
              "      <td>0.061328</td>\n",
              "    </tr>\n",
              "    <tr>\n",
              "      <th>3</th>\n",
              "      <td>exaggeration,minimisation</td>\n",
              "      <td>170</td>\n",
              "      <td>0.066406</td>\n",
              "    </tr>\n",
              "    <tr>\n",
              "      <th>4</th>\n",
              "      <td>flag_waving</td>\n",
              "      <td>155</td>\n",
              "      <td>0.060547</td>\n",
              "    </tr>\n",
              "    <tr>\n",
              "      <th>5</th>\n",
              "      <td>loaded_language</td>\n",
              "      <td>161</td>\n",
              "      <td>0.062891</td>\n",
              "    </tr>\n",
              "    <tr>\n",
              "      <th>6</th>\n",
              "      <td>name_calling,labeling</td>\n",
              "      <td>166</td>\n",
              "      <td>0.064844</td>\n",
              "    </tr>\n",
              "    <tr>\n",
              "      <th>7</th>\n",
              "      <td>not_propaganda</td>\n",
              "      <td>1269</td>\n",
              "      <td>0.495703</td>\n",
              "    </tr>\n",
              "    <tr>\n",
              "      <th>8</th>\n",
              "      <td>repetition</td>\n",
              "      <td>160</td>\n",
              "      <td>0.062500</td>\n",
              "    </tr>\n",
              "  </tbody>\n",
              "</table>\n",
              "</div>"
            ],
            "text/plain": [
              "                       label  # of sentences  % of sentences\n",
              "0   appeal_to_fear_prejudice             157        0.061328\n",
              "1  causal_oversimplification             165        0.064453\n",
              "2                      doubt             157        0.061328\n",
              "3  exaggeration,minimisation             170        0.066406\n",
              "4                flag_waving             155        0.060547\n",
              "5            loaded_language             161        0.062891\n",
              "6      name_calling,labeling             166        0.064844\n",
              "7             not_propaganda            1269        0.495703\n",
              "8                 repetition             160        0.062500"
            ]
          },
          "execution_count": 8,
          "metadata": {},
          "output_type": "execute_result"
        }
      ],
      "source": [
        "label_df = train_df.groupby(\"label\").size().reset_index(name=\"# of sentences\")\n",
        "label_df[\"% of sentences\"] = (label_df[\"# of sentences\"]/label_df[\"# of sentences\"].sum())\n",
        "label_df"
      ]
    },
    {
      "cell_type": "code",
      "execution_count": 9,
      "metadata": {
        "id": "3MuoT310qaVP",
        "outputId": "41223334-1bf3-4091-bd9a-28d6b5574528"
      },
      "outputs": [
        {
          "data": {
            "text/html": [
              "<div>\n",
              "<style scoped>\n",
              "    .dataframe tbody tr th:only-of-type {\n",
              "        vertical-align: middle;\n",
              "    }\n",
              "\n",
              "    .dataframe tbody tr th {\n",
              "        vertical-align: top;\n",
              "    }\n",
              "\n",
              "    .dataframe thead th {\n",
              "        text-align: right;\n",
              "    }\n",
              "</style>\n",
              "<table border=\"1\" class=\"dataframe\">\n",
              "  <thead>\n",
              "    <tr style=\"text-align: right;\">\n",
              "      <th></th>\n",
              "      <th>label</th>\n",
              "      <th>tagged_in_context</th>\n",
              "      <th>propaganda_label</th>\n",
              "    </tr>\n",
              "  </thead>\n",
              "  <tbody>\n",
              "    <tr>\n",
              "      <th>0</th>\n",
              "      <td>not_propaganda</td>\n",
              "      <td>No, &lt;BOS&gt; he &lt;EOS&gt; will not be confirmed.</td>\n",
              "      <td>0</td>\n",
              "    </tr>\n",
              "    <tr>\n",
              "      <th>1</th>\n",
              "      <td>not_propaganda</td>\n",
              "      <td>This declassification effort &lt;BOS&gt; won’t make ...</td>\n",
              "      <td>0</td>\n",
              "    </tr>\n",
              "    <tr>\n",
              "      <th>2</th>\n",
              "      <td>flag_waving</td>\n",
              "      <td>\"The Obama administration misled the &lt;BOS&gt; Ame...</td>\n",
              "      <td>1</td>\n",
              "    </tr>\n",
              "    <tr>\n",
              "      <th>3</th>\n",
              "      <td>not_propaganda</td>\n",
              "      <td>“It looks like we’re capturing the demise of t...</td>\n",
              "      <td>0</td>\n",
              "    </tr>\n",
              "    <tr>\n",
              "      <th>4</th>\n",
              "      <td>not_propaganda</td>\n",
              "      <td>&lt;BOS&gt; Location: Westerville, Ohio &lt;EOS&gt;</td>\n",
              "      <td>0</td>\n",
              "    </tr>\n",
              "  </tbody>\n",
              "</table>\n",
              "</div>"
            ],
            "text/plain": [
              "            label                                  tagged_in_context  \\\n",
              "0  not_propaganda         No, <BOS> he <EOS> will not be confirmed.    \n",
              "1  not_propaganda  This declassification effort <BOS> won’t make ...   \n",
              "2     flag_waving  \"The Obama administration misled the <BOS> Ame...   \n",
              "3  not_propaganda  “It looks like we’re capturing the demise of t...   \n",
              "4  not_propaganda           <BOS> Location: Westerville, Ohio <EOS>    \n",
              "\n",
              "   propaganda_label  \n",
              "0                 0  \n",
              "1                 0  \n",
              "2                 1  \n",
              "3                 0  \n",
              "4                 0  "
            ]
          },
          "execution_count": 9,
          "metadata": {},
          "output_type": "execute_result"
        }
      ],
      "source": [
        "from sklearn.preprocessing import LabelEncoder\n",
        "\n",
        "# Label of propaganda and non-propaganda\n",
        "encoder_1 = LabelEncoder()\n",
        "\n",
        "train_df['propaganda_label'] = encoder_1.fit_transform(train_df[\"label\"].apply(lambda x: x if x == \"not_propaganda\" else \"propaganda\"))\n",
        "test_df['propaganda_label'] = encoder_1.transform(test_df[\"label\"].apply(lambda x: x if x == \"not_propaganda\" else \"propaganda\"))\n",
        "\n",
        "train_df.head()"
      ]
    },
    {
      "cell_type": "code",
      "execution_count": 10,
      "metadata": {
        "id": "1_xEEQu5qaVP"
      },
      "outputs": [],
      "source": [
        "from nltk.tokenize import word_tokenize\n",
        "\n",
        "# Extract the span of the text and calculate the length of the text and the span\n",
        "train_df['span'] = train_df['tagged_in_context'].apply(lambda x: x.split('<BOS>')[1].split('<EOS>')[0])\n",
        "train_df['text_length'] = train_df['tagged_in_context'].apply(lambda x: len(word_tokenize(x)))\n",
        "train_df['span_length'] = train_df['span'].apply(lambda x: len(word_tokenize(x)))\n",
        "\n",
        "test_df['span'] = test_df['tagged_in_context'].apply(lambda x: x.split('<BOS>')[1].split('<EOS>')[0])\n",
        "test_df['text_length'] = test_df['tagged_in_context'].apply(lambda x: len(word_tokenize(x)))\n",
        "test_df['span_length'] = test_df['span'].apply(lambda x: len(word_tokenize(x)))\n"
      ]
    },
    {
      "cell_type": "code",
      "execution_count": 11,
      "metadata": {
        "id": "EMUob_KlqaVP",
        "outputId": "52075f95-1dc2-4ce3-b66e-63e90ef1a321"
      },
      "outputs": [
        {
          "data": {
            "image/png": "[encoded data removed]",
            "text/plain": [
              "<Figure size 2000x700 with 2 Axes>"
            ]
          },
          "metadata": {},
          "output_type": "display_data"
        }
      ],
      "source": [
        "import matplotlib.pyplot as plt\n",
        "import seaborn as sns\n",
        "\n",
        "# Group by the propaganda presence and calculate the average text length and span length\n",
        "group_df_1 = train_df.groupby('propaganda_label')['text_length'].mean().reset_index()\n",
        "group_df_1 = group_df_1.merge(train_df.groupby('propaganda_label')['span_length'].mean().reset_index(), on='propaganda_label')\n",
        "group_df_1.rename(columns={'text_length':'avg_text_length', 'span_length':'avg_span_length'}, inplace=True)\n",
        "group_df_1.sort_values('propaganda_label')\n",
        "\n",
        "# Plot the histograms of the text length and span length by propaganda presence\n",
        "fig, ax = plt.subplots(figsize=(20,7), nrows=1, ncols=2)\n",
        "\n",
        "sns.histplot(train_df, x=\"text_length\", hue=\"propaganda_label\", bins=50, kde=True, ax=ax[0])\n",
        "mean_non_propaganda = train_df[train_df['propaganda_label'] == 0]['text_length'].mean()\n",
        "mean_propaganda = train_df[train_df['propaganda_label'] == 1]['text_length'].mean()\n",
        "ax[0].axvline(mean_non_propaganda, color='blue', linestyle='dashed', linewidth=1)\n",
        "ax[0].axvline(mean_propaganda, color='orange', linestyle='dashed', linewidth=1)\n",
        "ax[0].set_xlabel('Text length histogram')\n",
        "ax[0].legend(['Propaganda', 'Non-propaganda'])\n",
        "\n",
        "sns.histplot(train_df, x=\"span_length\", hue=\"propaganda_label\", bins=50, kde=True, ax=ax[1])\n",
        "mean_non_propaganda = train_df[train_df['propaganda_label'] == 0]['span_length'].mean()\n",
        "mean_propaganda = train_df[train_df['propaganda_label'] == 1]['span_length'].mean()\n",
        "ax[1].axvline(mean_non_propaganda, color='blue', linestyle='dashed', linewidth=1)\n",
        "ax[1].axvline(mean_propaganda, color='orange', linestyle='dashed', linewidth=1)\n",
        "ax[1].set_xlabel('Span length histogram')\n",
        "ax[1].legend(['Propaganda', 'Non-propaganda'])\n",
        "\n",
        "plt.show()"
      ]
    },
    {
      "cell_type": "code",
      "execution_count": 12,
      "metadata": {
        "id": "yoleUP4RqaVQ",
        "outputId": "5dfb8f6c-8f7d-45d2-c8c3-ea39bc34e264"
      },
      "outputs": [
        {
          "data": {
            "image/png": "[encoded data removed]",
            "text/plain": [
              "<Figure size 2000x700 with 2 Axes>"
            ]
          },
          "metadata": {},
          "output_type": "display_data"
        }
      ],
      "source": [
        "import matplotlib.pyplot as plt\n",
        "import seaborn as sns\n",
        "\n",
        "# Group by the propaganda technique and calculate the average text length and span length\n",
        "group_df_2 = train_df[train_df['label']!=\"not_propaganda\"].groupby('label')['text_length'].mean().reset_index()\n",
        "group_df_2 = group_df_2.merge(train_df[train_df['label']!=\"not_propaganda\"].groupby('label')['span_length'].mean().reset_index(), on='label')\n",
        "group_df_2.rename(columns={'text_length':'avg_text_length', 'span_length':'avg_span_length'}, inplace=True)\n",
        "group_df_2.sort_values('label')\n",
        "\n",
        "fig, ax = plt.subplots(figsize=(20,7))\n",
        "\n",
        "group_df_2.plot(kind='bar', x=\"label\", secondary_y='avg_span_length', rot=0, ax=ax)\n",
        "ax.set_xlabel('')\n",
        "\n",
        "plt.show()"
      ]
    },
    {
      "cell_type": "code",
      "execution_count": 13,
      "metadata": {
        "id": "rrbQQgUSqaVQ",
        "outputId": "7db4cf97-efe9-42e3-aa42-183416efdb2b"
      },
      "outputs": [
        {
          "data": {
            "text/plain": [
              "Text(0.5, 0, 'Span length histogram')"
            ]
          },
          "execution_count": 13,
          "metadata": {},
          "output_type": "execute_result"
        },
        {
          "data": {
            "image/png": "[encoded data removed]",
            "text/plain": [
              "<Figure size 2000x700 with 2 Axes>"
            ]
          },
          "metadata": {},
          "output_type": "display_data"
        }
      ],
      "source": [
        "# Plot the histograms of the text length and span length by propaganda technique\n",
        "fig, ax = plt.subplots(figsize=(20,7), nrows=1, ncols=2)\n",
        "\n",
        "sns.histplot(train_df[train_df['label']!=\"not_propaganda\"], x=\"text_length\", hue=\"label\", bins=50, kde=True, ax=ax[0], palette='Set1')\n",
        "ax[0].set_xlabel('Text length histogram')\n",
        "\n",
        "sns.histplot(train_df[train_df['label']!=\"not_propaganda\"], x=\"span_length\", hue=\"label\", bins=50, kde=True, ax=ax[1], palette='Set1')\n",
        "ax[1].set_xlabel('Span length histogram')\n"
      ]
    },
    {
      "cell_type": "markdown",
      "metadata": {
        "id": "zEeztyjDFEFF"
      },
      "source": [
        "## Task 1 - Propaganda Presence Detection"
      ]
    },
    {
      "cell_type": "code",
      "execution_count": 14,
      "metadata": {
        "id": "1n3IT3pAqaVQ",
        "outputId": "e7e8aef9-ea37-4135-b7c6-af9d4b5af85b"
      },
      "outputs": [
        {
          "name": "stdout",
          "output_type": "stream",
          "text": [
            "propaganda_label\n",
            "not_propaganda    1269\n",
            "propaganda        1291\n",
            "Name: count, dtype: int64\n"
          ]
        },
        {
          "data": {
            "image/png": "[encoded data removed]",
            "text/plain": [
              "<Figure size 600x300 with 1 Axes>"
            ]
          },
          "metadata": {},
          "output_type": "display_data"
        }
      ],
      "source": [
        "task1_classes = train_df[\"propaganda_label\"].apply(lambda x: encoder_1.classes_[x]).value_counts().sort_values(ascending=True)\n",
        "print(task1_classes)\n",
        "\n",
        "fig, ax = plt.subplots(figsize=(6,3))\n",
        "\n",
        "sns.barplot(ax=ax, y=task1_classes.index, x=task1_classes.values)\n",
        "ax.set_ylabel('')\n",
        "plt.show()"
      ]
    },
    {
      "cell_type": "markdown",
      "metadata": {
        "id": "1FIKs9pcDq7F"
      },
      "source": [
        "For the first task, we will build a classifier with 2 approaches:\n",
        "- Bag of Words (BOW)\n",
        "- Pre-trained Large Language Model (BERT)"
      ]
    },
    {
      "cell_type": "markdown",
      "metadata": {
        "id": "5QfiIka4qaVQ"
      },
      "source": [
        "### 1. Baseline performance"
      ]
    },
    {
      "cell_type": "code",
      "execution_count": 15,
      "metadata": {
        "id": "I2fRs5vLqaVQ",
        "outputId": "7c8e8cd0-ebcc-402a-d753-757ed4931135"
      },
      "outputs": [
        {
          "name": "stdout",
          "output_type": "stream",
          "text": [
            "The accuracy of the model is 0.5953125\n",
            "                precision    recall  f1-score   support\n",
            "\n",
            "not_propaganda       0.59      0.70      0.64       331\n",
            "    propaganda       0.60      0.49      0.54       309\n",
            "\n",
            "      accuracy                           0.60       640\n",
            "     macro avg       0.60      0.59      0.59       640\n",
            "  weighted avg       0.60      0.60      0.59       640\n",
            "\n"
          ]
        }
      ],
      "source": [
        "from sklearn.linear_model import LogisticRegression\n",
        "from sklearn.metrics import accuracy_score, classification_report\n",
        "\n",
        "X_train, y_train = train_df['text_length'], train_df['propaganda_label']\n",
        "X_test, y_test = test_df['text_length'], test_df['propaganda_label']\n",
        "\n",
        "classifier = LogisticRegression(random_state=candidate_number)\n",
        "classifier.fit(X_train.values.reshape(-1,1), y_train)\n",
        "\n",
        "y_pred = classifier.predict(X_test.values.reshape(-1,1))\n",
        "accuracy = accuracy_score(y_test, y_pred)\n",
        "\n",
        "print(f\"The accuracy of the model is {accuracy}\")\n",
        "print(classification_report(y_test, y_pred, target_names=encoder_1.classes_))"
      ]
    },
    {
      "cell_type": "markdown",
      "metadata": {
        "id": "EVZZn_vkFEFG"
      },
      "source": [
        "### 2. Bag of Words"
      ]
    },
    {
      "cell_type": "markdown",
      "metadata": {
        "id": "-0r7awS0FEFG"
      },
      "source": [
        "#### a) Encode the target variable and Set up the training & testing data"
      ]
    },
    {
      "cell_type": "code",
      "execution_count": 16,
      "metadata": {
        "id": "4yqAiiZmFEFG"
      },
      "outputs": [],
      "source": [
        "from sklearn.feature_extraction.text import CountVectorizer\n",
        "from sklearn.naive_bayes import MultinomialNB\n",
        "from sklearn.svm import SVC\n",
        "from sklearn.ensemble import RandomForestClassifier\n",
        "from sklearn.linear_model import LogisticRegression\n",
        "from sklearn.neighbors import KNeighborsClassifier\n",
        "from sklearn.metrics import accuracy_score, classification_report\n",
        "from sklearn.model_selection import GridSearchCV\n",
        "\n",
        "\n",
        "X_train, y_train = train_df['tagged_in_context'], train_df['propaganda_label']\n",
        "X_test, y_test = test_df['tagged_in_context'], test_df['propaganda_label']"
      ]
    },
    {
      "cell_type": "markdown",
      "metadata": {
        "id": "o5gb13j1FEFG"
      },
      "source": [
        "#### b) Run with different algorithms and configs to find the best combination"
      ]
    },
    {
      "cell_type": "code",
      "execution_count": 17,
      "metadata": {
        "id": "xdLEwGQTFEFG"
      },
      "outputs": [],
      "source": [
        "vectorizer_params = {\n",
        "    'ngram_range': [(1, 1), (2, 2), (3, 3), (4, 4), (5, 5)],\n",
        "    'analyzer': ['word', 'char', 'char_wb'],\n",
        "}\n",
        "\n",
        "classifiers = [\n",
        "    {'model': MultinomialNB(), 'params': {}},\n",
        "    {'model': LogisticRegression(), 'params': {'penalty': ['l1','l2'], 'C': [0.1, 1, 10], 'max_iter': [10000]}},\n",
        "    {'model': RandomForestClassifier(), 'params': {'n_estimators': [100, 200], 'max_depth': [None, 5, 10], \"random_state\":[candidate_number]}},\n",
        "    {'model': KNeighborsClassifier(), 'params': {'n_neighbors': [len(train_df[\"propaganda_label\"].unique())], 'weights': ['uniform', 'distance']}},\n",
        "    {'model': SVC(), 'params': {'kernel': ['linear', 'rbf'], 'C': [0.1, 1, 10], \"random_state\":[candidate_number]}},\n",
        "]"
      ]
    },
    {
      "cell_type": "code",
      "execution_count": 18,
      "metadata": {
        "id": "fw_8Qz_UFEFG"
      },
      "outputs": [
        {
          "name": "stdout",
          "output_type": "stream",
          "text": [
            "Training MultinomialNB...\n"
          ]
        },
        {
          "name": "stderr",
          "output_type": "stream",
          "text": [
            "100%|██████████| 5/5 [00:05<00:00,  1.06s/it]\n"
          ]
        },
        {
          "name": "stdout",
          "output_type": "stream",
          "text": [
            "MultinomialNB (Params: {}) with vectorizer (ngram_range:(4, 4), analyzer:char):\n",
            "Validation Accuracy: 0.8375\n",
            "                precision    recall  f1-score   support\n",
            "\n",
            "not_propaganda       0.87      0.81      0.84       331\n",
            "    propaganda       0.81      0.87      0.84       309\n",
            "\n",
            "      accuracy                           0.84       640\n",
            "     macro avg       0.84      0.84      0.84       640\n",
            "  weighted avg       0.84      0.84      0.84       640\n",
            "\n",
            "--------------------\n",
            "Training LogisticRegression...\n"
          ]
        },
        {
          "name": "stderr",
          "output_type": "stream",
          "text": [
            "100%|██████████| 5/5 [00:16<00:00,  3.35s/it]\n"
          ]
        },
        {
          "name": "stdout",
          "output_type": "stream",
          "text": [
            "LogisticRegression (Params: {'C': 0.1, 'max_iter': 10000, 'penalty': 'l2'}) with vectorizer (ngram_range:(5, 5), analyzer:char):\n",
            "Validation Accuracy: 0.871875\n",
            "                precision    recall  f1-score   support\n",
            "\n",
            "not_propaganda       0.83      0.95      0.88       331\n",
            "    propaganda       0.94      0.79      0.86       309\n",
            "\n",
            "      accuracy                           0.87       640\n",
            "     macro avg       0.88      0.87      0.87       640\n",
            "  weighted avg       0.88      0.87      0.87       640\n",
            "\n",
            "--------------------\n",
            "Training RandomForestClassifier...\n"
          ]
        },
        {
          "name": "stderr",
          "output_type": "stream",
          "text": [
            "100%|██████████| 5/5 [04:23<00:00, 52.74s/it]\n"
          ]
        },
        {
          "name": "stdout",
          "output_type": "stream",
          "text": [
            "RandomForestClassifier (Params: {'max_depth': None, 'n_estimators': 200, 'random_state': 277269}) with vectorizer (ngram_range:(5, 5), analyzer:char_wb):\n",
            "Validation Accuracy: 0.8609375\n",
            "                precision    recall  f1-score   support\n",
            "\n",
            "not_propaganda       0.83      0.92      0.87       331\n",
            "    propaganda       0.90      0.80      0.85       309\n",
            "\n",
            "      accuracy                           0.86       640\n",
            "     macro avg       0.87      0.86      0.86       640\n",
            "  weighted avg       0.87      0.86      0.86       640\n",
            "\n",
            "--------------------\n",
            "Training KNeighborsClassifier...\n"
          ]
        },
        {
          "name": "stderr",
          "output_type": "stream",
          "text": [
            "100%|██████████| 5/5 [00:05<00:00,  1.05s/it]\n"
          ]
        },
        {
          "name": "stdout",
          "output_type": "stream",
          "text": [
            "KNeighborsClassifier (Params: {'n_neighbors': 2, 'weights': 'distance'}) with vectorizer (ngram_range:(5, 5), analyzer:char):\n",
            "Validation Accuracy: 0.7234375\n",
            "                precision    recall  f1-score   support\n",
            "\n",
            "not_propaganda       0.66      0.95      0.78       331\n",
            "    propaganda       0.91      0.48      0.62       309\n",
            "\n",
            "      accuracy                           0.72       640\n",
            "     macro avg       0.78      0.72      0.70       640\n",
            "  weighted avg       0.78      0.72      0.71       640\n",
            "\n",
            "--------------------\n",
            "Training SVC...\n"
          ]
        },
        {
          "name": "stderr",
          "output_type": "stream",
          "text": [
            "100%|██████████| 5/5 [03:44<00:00, 44.82s/it]"
          ]
        },
        {
          "name": "stdout",
          "output_type": "stream",
          "text": [
            "SVC (Params: {'C': 10, 'kernel': 'rbf', 'random_state': 277269}) with vectorizer (ngram_range:(4, 4), analyzer:char):\n",
            "Validation Accuracy: 0.8609375\n",
            "                precision    recall  f1-score   support\n",
            "\n",
            "not_propaganda       0.84      0.90      0.87       331\n",
            "    propaganda       0.89      0.82      0.85       309\n",
            "\n",
            "      accuracy                           0.86       640\n",
            "     macro avg       0.86      0.86      0.86       640\n",
            "  weighted avg       0.86      0.86      0.86       640\n",
            "\n",
            "--------------------\n"
          ]
        },
        {
          "name": "stderr",
          "output_type": "stream",
          "text": [
            "\n"
          ]
        }
      ],
      "source": [
        "# it takes 9 minutes to run\n",
        "\n",
        "for config in classifiers:\n",
        "    print(f\"Training {config['model'].__class__.__name__}...\")\n",
        "    best_accuracy = 0\n",
        "    best_parameters = None\n",
        "    best_model = None\n",
        "    best_y_pred = None\n",
        "    best_vectorizer = None\n",
        "    for ngram_range in tqdm(vectorizer_params['ngram_range']):\n",
        "        for analyzer in tqdm(vectorizer_params['analyzer'], leave=False):\n",
        "            vectorizer = CountVectorizer(ngram_range=ngram_range, analyzer=analyzer)\n",
        "            X_train_vector = vectorizer.fit_transform(X_train)\n",
        "            X_test_vector = vectorizer.transform(X_test)\n",
        "\n",
        "            classifier = config['model']\n",
        "            grid_params = config['params']\n",
        "\n",
        "            grid_search = GridSearchCV(classifier, grid_params, n_jobs=-1)\n",
        "            grid_search.fit(X_train_vector, y_train)\n",
        "            model = grid_search.best_estimator_\n",
        "\n",
        "            y_pred = model.predict(X_test_vector)\n",
        "            accuracy = accuracy_score(y_test, y_pred)\n",
        "\n",
        "            if accuracy > best_accuracy:\n",
        "                best_accuracy = accuracy\n",
        "                best_parameters = grid_search.best_params_\n",
        "                best_model = grid_search.best_estimator_\n",
        "                best_y_pred = y_pred\n",
        "                best_vectorizer = vectorizer\n",
        "    print(f\"{classifier.__class__.__name__} (Params: {best_parameters}) with vectorizer (ngram_range:{best_vectorizer.get_params()['ngram_range']}, analyzer:{best_vectorizer.get_params()['analyzer']}):\")\n",
        "    print(f\"Validation Accuracy:\", best_accuracy)\n",
        "    print(classification_report(y_test, best_y_pred, target_names=encoder_1.classes_))\n",
        "    print(\"-\" * 20)\n"
      ]
    },
    {
      "cell_type": "markdown",
      "metadata": {
        "id": "7MdTbv0lFEFI"
      },
      "source": [
        "### 3. Pre-trained Large Language Model - BERT"
      ]
    },
    {
      "cell_type": "markdown",
      "metadata": {
        "id": "GNLkJlvXFEFI"
      },
      "source": [
        "#### a) First, we define a torch Dataset class to store the training and testing data"
      ]
    },
    {
      "cell_type": "code",
      "execution_count": 19,
      "metadata": {
        "id": "ZjO5YoXCFEFI"
      },
      "outputs": [],
      "source": [
        "import torch\n",
        "import numpy as np\n",
        "from transformers import BertTokenizer\n",
        "\n",
        "bert_tokenizer = BertTokenizer.from_pretrained('bert-base-uncased')\n",
        "\n",
        "\n",
        "class Dataset_Bert(torch.utils.data.Dataset):\n",
        "    def __init__(self, df, sents='tagged_in_context', labels=\"propaganda_label\", max_length=256, padding='max_length'):\n",
        "        self.labels = [torch.tensor(label, dtype=torch.long) for label in df[labels]]\n",
        "        self.texts = [bert_tokenizer(text.lower(),padding=padding,max_length=max_length,truncation=True,return_tensors=\"pt\") for text in df[sents]]\n",
        "\n",
        "    def classes(self):\n",
        "        return self.labels\n",
        "\n",
        "    def __len__(self):\n",
        "        return len(self.labels)\n",
        "\n",
        "    def get_batch_labels(self, idx):\n",
        "        return self.labels[idx]\n",
        "\n",
        "    def get_batch_texts(self, idx):\n",
        "        return self.texts[idx]\n",
        "\n",
        "    def __getitem__(self,idx):\n",
        "        batch_texts=self.get_batch_texts(idx)\n",
        "        batch_y=self.get_batch_labels(idx)\n",
        "\n",
        "        return batch_texts,batch_y"
      ]
    },
    {
      "cell_type": "markdown",
      "metadata": {
        "id": "WNfd1lgqFEFI"
      },
      "source": [
        "#### b) Define the training loop and model valuation using BertForSequenceClassification"
      ]
    },
    {
      "cell_type": "code",
      "execution_count": 20,
      "metadata": {
        "id": "Za0_h5K2FEFM"
      },
      "outputs": [],
      "source": [
        "from transformers import AdamW\n",
        "import gc\n",
        "\n",
        "\n",
        "def train_bert(model, train_data, val_data, learning_rate, epochs, batch_size):\n",
        "    if torch.cuda.is_available():  # Use GPU if available\n",
        "        device = torch.device(\"cuda\")\n",
        "        torch.cuda.empty_cache()\n",
        "        gc.collect()\n",
        "    elif torch.backends.mps.is_available():\n",
        "        device = torch.device(\"mps\")  # Use GPU for MacOS\n",
        "        torch.mps.empty_cache()\n",
        "        gc.collect()\n",
        "    else:\n",
        "        device = torch.device(\"cpu\")\n",
        "\n",
        "    model.to(device)\n",
        "\n",
        "    train_dataloader = torch.utils.data.DataLoader(train_data, batch_size=batch_size, shuffle=True)\n",
        "    val_dataloader = torch.utils.data.DataLoader(val_data, batch_size=batch_size)\n",
        "\n",
        "    optimizer = AdamW(model.parameters(), lr=learning_rate)\n",
        "\n",
        "    # Initialize best validation loss for early stopping\n",
        "    best_val_loss = float('inf')\n",
        "    patience = 5\n",
        "\n",
        "    for epoch_num in range(epochs):\n",
        "        # print(f\"Epochs: {epoch_num+1}/{epochs}\")\n",
        "        total_acc_train=0\n",
        "        total_loss_train=0\n",
        "\n",
        "        model.train()\n",
        "        for batch in tqdm(train_dataloader, desc=f\"Training epoch: {epoch_num+1}/{epochs}\", leave=False):\n",
        "            train_input, train_label = (instance.to(device) for instance in batch)\n",
        "            input_id = train_input['input_ids'].squeeze(1)\n",
        "            mask = train_input['attention_mask']\n",
        "            output = model(input_ids=input_id, attention_mask=mask, labels=train_label)\n",
        "\n",
        "            batch_loss = output.loss\n",
        "            total_loss_train += batch_loss.item()\n",
        "\n",
        "            acc=(output.logits.argmax(dim=1) == train_label).sum().item()\n",
        "            total_acc_train += acc\n",
        "\n",
        "            model.zero_grad()\n",
        "            batch_loss.backward()\n",
        "            optimizer.step()\n",
        "\n",
        "        total_acc_val = 0\n",
        "        total_loss_val = 0\n",
        "        model.eval()\n",
        "        with torch.no_grad():\n",
        "            for batch in tqdm(val_dataloader, desc=f\"Testing epoch: {epoch_num+1}/{epochs}\",leave=False):\n",
        "                val_input, val_label = (instance.to(device) for instance in batch)\n",
        "                input_id = val_input['input_ids'].squeeze(1)\n",
        "                mask = val_input['attention_mask']\n",
        "                output = model(input_ids=input_id, attention_mask=mask, labels=val_label)\n",
        "\n",
        "                batch_loss = output.loss\n",
        "                total_loss_val += batch_loss.item()\n",
        "\n",
        "                acc = (output.logits.argmax(dim=1) == val_label).sum().item()\n",
        "                total_acc_val += acc\n",
        "\n",
        "        # Early stopping\n",
        "        if total_loss_val < best_val_loss:\n",
        "            best_val_loss = total_loss_val\n",
        "            patience = 5  # Reset patience counter on improvement\n",
        "        else:\n",
        "            patience -= 1\n",
        "\n",
        "        if patience == 0:\n",
        "            print(f\"Early Stopping: Validation loss hasn't improved after {epoch_num} epochs. Stopping training.\")\n",
        "            break\n",
        "\n",
        "        # print(f'Train Loss: {total_loss_train / len(train_data):.3f} | Train Accuracy: {total_acc_train/len(train_data):.3f}')\n",
        "    # print(f'Val loss: {best_val_loss/len(val_data):.3f} | Val Accuracy: {total_acc_val / len(val_data):.3f}')\n",
        "    # print(\"---\")\n",
        "    return total_acc_val / len(val_data)\n"
      ]
    },
    {
      "cell_type": "markdown",
      "metadata": {
        "id": "6By2Z2jwFEFM"
      },
      "source": [
        "#### c) Run the model and tuning hyperparameter"
      ]
    },
    {
      "cell_type": "code",
      "execution_count": 21,
      "metadata": {
        "id": "DrBovDGXFuU_"
      },
      "outputs": [],
      "source": [
        "from copy import deepcopy\n",
        "\n",
        "def tune_hyperparameters(train_fn, model, train_data, val_data, configs):\n",
        "    best_val_acc = 0\n",
        "    best_model_state_dict = None\n",
        "    best_config = None\n",
        "\n",
        "    initial_state = deepcopy(model.state_dict())  # Save initial model state\n",
        "    epochs = configs['EPOCHS']\n",
        "    for lr in configs['LR']:\n",
        "        for batch_size in configs['BATCH_SIZE']:\n",
        "            print(f\"Training with: epochs={epochs}, lr={lr}, batch_size={batch_size}\")\n",
        "            model.load_state_dict(initial_state)  # Reset model to initial state for each configuration\n",
        "            val_acc = train_fn(model, train_data, val_data, learning_rate=lr, epochs=epochs, batch_size=batch_size)\n",
        "            if val_acc > best_val_acc:\n",
        "                best_val_acc = val_acc\n",
        "                best_model_state_dict = deepcopy(model.state_dict())\n",
        "                best_config = (epochs, lr, batch_size)\n",
        "            print(f\"Val Accuracy: {val_acc:.3f}\")\n",
        "            print(\"----------\")\n",
        "\n",
        "    print(f\"Best validation accuracy: {best_val_acc:.3f}\")\n",
        "    print(f\"Best configuration: epochs={best_config[0]}, lr={best_config[1]}, batch_size={best_config[2]}\")\n",
        "\n",
        "    #Load best model weights\n",
        "    if best_model_state_dict is not None:\n",
        "        model.load_state_dict(best_model_state_dict)\n",
        "\n",
        "    return model, best_config\n"
      ]
    },
    {
      "cell_type": "code",
      "execution_count": 22,
      "metadata": {
        "id": "rFKbCDEgL7gp"
      },
      "outputs": [],
      "source": [
        "def bert_model_report(model, val_data, batch_size, classes=encoder_1.classes_):\n",
        "    if torch.cuda.is_available():  # Use GPU if available\n",
        "        device = torch.device(\"cuda\")\n",
        "        torch.cuda.empty_cache()\n",
        "        gc.collect()\n",
        "    elif torch.backends.mps.is_available():\n",
        "        device = torch.device(\"mps\")  # Use GPU for MacOS\n",
        "        torch.mps.empty_cache()\n",
        "        gc.collect()\n",
        "    else:\n",
        "        device = torch.device(\"cpu\")\n",
        "\n",
        "    model.to(device)\n",
        "    model.eval()\n",
        "    val_dataloader = torch.utils.data.DataLoader(val_data, batch_size=batch_size)\n",
        "\n",
        "    total_acc_val = 0\n",
        "    total_loss_val = 0\n",
        "    pred_labels, true_labels = [], []\n",
        "\n",
        "    with torch.no_grad():\n",
        "        for batch in tqdm(val_dataloader):\n",
        "            val_input, val_label = (instance.to(device) for instance in batch)\n",
        "            input_id = val_input['input_ids'].squeeze(1)\n",
        "            mask = val_input['attention_mask']\n",
        "            output = model(input_ids=input_id, attention_mask=mask, labels=val_label)\n",
        "\n",
        "            pred = output.logits.argmax(dim=1)\n",
        "\n",
        "            acc = (output.logits.argmax(dim=1) == val_label).sum().item()\n",
        "            total_acc_val += acc\n",
        "\n",
        "            batch_loss = output.loss\n",
        "            total_loss_val += batch_loss.item()\n",
        "\n",
        "            pred_labels += pred.cpu()\n",
        "            true_labels += val_label.cpu()\n",
        "\n",
        "    print(f'Best loss: {total_loss_val/len(val_data):.3f} | Best Accuracy: {total_acc_val / len(val_data):.3f}')\n",
        "    print(classification_report(true_labels, pred_labels, target_names=classes))"
      ]
    },
    {
      "cell_type": "code",
      "execution_count": 23,
      "metadata": {
        "id": "W-OgGjnkFEFM"
      },
      "outputs": [],
      "source": [
        "train_data = Dataset_Bert(train_df)\n",
        "test_data = Dataset_Bert(test_df)"
      ]
    },
    {
      "cell_type": "markdown",
      "metadata": {},
      "source": [
        "##### Tuning hyperparameter, this takes 160 minutes to run"
      ]
    },
    {
      "cell_type": "code",
      "execution_count": 24,
      "metadata": {
        "id": "UEv3oSIGFEFM"
      },
      "outputs": [],
      "source": [
        "configs = {\n",
        "    'EPOCHS': 10,\n",
        "    'LR': [1e-5, 5e-5],\n",
        "    'BATCH_SIZE': [16, 8, 2]\n",
        "    # 'EPOCHS': 1,\n",
        "    # 'LR': [1e-5],\n",
        "    # 'BATCH_SIZE': [2]\n",
        "}"
      ]
    },
    {
      "cell_type": "code",
      "execution_count": 25,
      "metadata": {
        "id": "hmbIB6QwFEFN"
      },
      "outputs": [
        {
          "name": "stderr",
          "output_type": "stream",
          "text": [
            "Some weights of BertForSequenceClassification were not initialized from the model checkpoint at bert-base-uncased and are newly initialized: ['classifier.bias', 'classifier.weight']\n",
            "You should probably TRAIN this model on a down-stream task to be able to use it for predictions and inference.\n"
          ]
        },
        {
          "name": "stdout",
          "output_type": "stream",
          "text": [
            "Training with: epochs=10, lr=1e-05, batch_size=16\n"
          ]
        },
        {
          "name": "stderr",
          "output_type": "stream",
          "text": [
            "                                                                       \r"
          ]
        },
        {
          "name": "stdout",
          "output_type": "stream",
          "text": [
            "Early Stopping: Validation loss hasn't improved after 7 epochs. Stopping training.\n",
            "Val Accuracy: 0.948\n",
            "----------\n",
            "Training with: epochs=10, lr=1e-05, batch_size=8\n"
          ]
        },
        {
          "name": "stderr",
          "output_type": "stream",
          "text": [
            "                                                                       \r"
          ]
        },
        {
          "name": "stdout",
          "output_type": "stream",
          "text": [
            "Early Stopping: Validation loss hasn't improved after 7 epochs. Stopping training.\n",
            "Val Accuracy: 0.952\n",
            "----------\n",
            "Training with: epochs=10, lr=1e-05, batch_size=2\n"
          ]
        },
        {
          "name": "stderr",
          "output_type": "stream",
          "text": [
            "                                                                         \r"
          ]
        },
        {
          "name": "stdout",
          "output_type": "stream",
          "text": [
            "Early Stopping: Validation loss hasn't improved after 8 epochs. Stopping training.\n",
            "Val Accuracy: 0.945\n",
            "----------\n",
            "Training with: epochs=10, lr=5e-05, batch_size=16\n"
          ]
        },
        {
          "name": "stderr",
          "output_type": "stream",
          "text": [
            "                                                                       \r"
          ]
        },
        {
          "name": "stdout",
          "output_type": "stream",
          "text": [
            "Early Stopping: Validation loss hasn't improved after 7 epochs. Stopping training.\n",
            "Val Accuracy: 0.936\n",
            "----------\n",
            "Training with: epochs=10, lr=5e-05, batch_size=8\n"
          ]
        },
        {
          "name": "stderr",
          "output_type": "stream",
          "text": [
            "                                                                       \r"
          ]
        },
        {
          "name": "stdout",
          "output_type": "stream",
          "text": [
            "Early Stopping: Validation loss hasn't improved after 6 epochs. Stopping training.\n",
            "Val Accuracy: 0.912\n",
            "----------\n",
            "Training with: epochs=10, lr=5e-05, batch_size=2\n"
          ]
        },
        {
          "name": "stderr",
          "output_type": "stream",
          "text": [
            "                                                                         "
          ]
        },
        {
          "name": "stdout",
          "output_type": "stream",
          "text": [
            "Early Stopping: Validation loss hasn't improved after 6 epochs. Stopping training.\n",
            "Val Accuracy: 0.483\n",
            "----------\n",
            "Best validation accuracy: 0.952\n",
            "Best configuration: epochs=10, lr=1e-05, batch_size=8\n"
          ]
        },
        {
          "name": "stderr",
          "output_type": "stream",
          "text": [
            "\r"
          ]
        }
      ],
      "source": [
        "# it takes 160 minutes to run\n",
        "\n",
        "from transformers import BertForSequenceClassification\n",
        "\n",
        "bert_model = BertForSequenceClassification.from_pretrained('bert-base-uncased', num_labels=2)\n",
        "best_bert_binary, best_config_binary = tune_hyperparameters(train_bert, bert_model, train_data, test_data, configs)"
      ]
    },
    {
      "cell_type": "markdown",
      "metadata": {},
      "source": [
        "##### Best model's performance"
      ]
    },
    {
      "cell_type": "code",
      "execution_count": 26,
      "metadata": {
        "id": "XUexQqcPR8aU"
      },
      "outputs": [
        {
          "name": "stderr",
          "output_type": "stream",
          "text": [
            "100%|██████████| 80/80 [00:11<00:00,  6.85it/s]"
          ]
        },
        {
          "name": "stdout",
          "output_type": "stream",
          "text": [
            "Best loss: 0.024 | Best Accuracy: 0.952\n",
            "                precision    recall  f1-score   support\n",
            "\n",
            "not_propaganda       0.96      0.95      0.95       331\n",
            "    propaganda       0.95      0.95      0.95       309\n",
            "\n",
            "      accuracy                           0.95       640\n",
            "     macro avg       0.95      0.95      0.95       640\n",
            "  weighted avg       0.95      0.95      0.95       640\n",
            "\n"
          ]
        },
        {
          "name": "stderr",
          "output_type": "stream",
          "text": [
            "\n"
          ]
        }
      ],
      "source": [
        "bert_model_report(best_bert_binary, test_data, best_config_binary[2])"
      ]
    },
    {
      "cell_type": "markdown",
      "metadata": {
        "id": "SXhd0ADjGeQ4"
      },
      "source": [
        "### 4. Neural Network Model"
      ]
    },
    {
      "cell_type": "markdown",
      "metadata": {
        "id": "i5ALMMJEFEFG"
      },
      "source": [
        "#### a) First, we define a torch Dataset class to store the training and testing data"
      ]
    },
    {
      "cell_type": "code",
      "execution_count": 27,
      "metadata": {
        "id": "AnQY8bKtFEFH"
      },
      "outputs": [],
      "source": [
        "import torch\n",
        "from torchtext.data.utils import get_tokenizer\n",
        "from torchtext.vocab import build_vocab_from_iterator\n",
        "\n",
        "torch_tokenizer = get_tokenizer(\"basic_english\")\n",
        "\n",
        "def yield_tokens(data_iter, sents=\"tagged_in_context\"):\n",
        "    for row in data_iter[sents]:\n",
        "        yield torch_tokenizer(row)\n",
        "\n",
        "vocab = build_vocab_from_iterator(yield_tokens(train_df), specials=[\"<unk>\"])\n",
        "vocab.set_default_index(vocab[\"<unk>\"])\n",
        "vocab_size = len(vocab)\n",
        "\n",
        "\n",
        "class Dataset_NN(torch.utils.data.Dataset):\n",
        "    def __init__(self, df, sents='tagged_in_context', labels=\"propaganda_label\"):\n",
        "        self.labels = [torch.tensor(label, dtype=torch.long) for label in df[labels]]\n",
        "        self.texts = [torch.tensor(vocab(torch_tokenizer(text)), dtype=torch.long) for text in df[sents]]\n",
        "\n",
        "    def classes(self):\n",
        "        return self.labels\n",
        "\n",
        "    def __len__(self):\n",
        "        return len(self.labels)\n",
        "\n",
        "    def get_batch_labels(self, idx):\n",
        "        return self.labels[idx]\n",
        "\n",
        "    def get_batch_texts(self, idx):\n",
        "        return self.texts[idx]\n",
        "\n",
        "    def __getitem__(self, idx):\n",
        "        batch_texts = self.get_batch_texts(idx)\n",
        "        batch_y = self.get_batch_labels(idx)\n",
        "\n",
        "        return batch_texts, batch_y"
      ]
    },
    {
      "cell_type": "markdown",
      "metadata": {
        "id": "hQ3INOg9FEFH"
      },
      "source": [
        "#### b) Define an Neural Network classification model."
      ]
    },
    {
      "cell_type": "code",
      "execution_count": 28,
      "metadata": {
        "id": "LJHu7Y3aFEFH"
      },
      "outputs": [],
      "source": [
        "import torch.nn as nn\n",
        "\n",
        "\n",
        "class NNClassifier(nn.Module):\n",
        "    def __init__(self, vocab_size, embed_dim, embed_mode=\"sum\", num_classes=2):\n",
        "        super(NNClassifier, self).__init__()\n",
        "\n",
        "        self.embeddings = nn.EmbeddingBag(vocab_size, embed_dim, mode=embed_mode, sparse=False)\n",
        "        self.linear = nn.Linear(embed_dim, num_classes)\n",
        "\n",
        "    def forward(self, inputs):\n",
        "        embeds = self.embeddings(inputs)\n",
        "        final_layer = self.linear(embeds)\n",
        "        return final_layer"
      ]
    },
    {
      "cell_type": "markdown",
      "metadata": {
        "id": "Pu-o7xM2FEFH"
      },
      "source": [
        "#### c) Define the training loop and model valuation"
      ]
    },
    {
      "cell_type": "code",
      "execution_count": 29,
      "metadata": {
        "id": "hepba6emhgnT"
      },
      "outputs": [],
      "source": [
        "from torch.optim import Adam\n",
        "\n",
        "\n",
        "def train_nn(model, train_data, val_data, learning_rate, epochs, batch_size):\n",
        "    device = torch.device(\"cpu\")  # EmbeddingBag is not supported on GPU\n",
        "    model.to(device)\n",
        "\n",
        "    train_dataloader = torch.utils.data.DataLoader(train_data, batch_size=batch_size, shuffle=True)\n",
        "    val_dataloader = torch.utils.data.DataLoader(val_data, batch_size=batch_size)\n",
        "\n",
        "    criterion = nn.CrossEntropyLoss()\n",
        "    optimizer = Adam(model.parameters(), lr=learning_rate)\n",
        "\n",
        "    # Initialize best validation loss for early stopping\n",
        "    best_val_loss = float('inf')\n",
        "    patience = 5\n",
        "\n",
        "    for epoch_num in range(epochs):\n",
        "        # print(f\"Epochs: {epoch_num+1}/{epochs}\")\n",
        "        total_acc_train=0\n",
        "        total_loss_train=0\n",
        "        model.train()\n",
        "        for batch in tqdm(train_dataloader, desc=f\"Training epoch: {epoch_num+1}/{epochs}\", leave=False):\n",
        "            train_input, train_label = (instance.to(device) for instance in batch)\n",
        "            output = model(train_input)\n",
        "\n",
        "            batch_loss = criterion(output,train_label)\n",
        "            total_loss_train += batch_loss.item()\n",
        "\n",
        "            acc=(output.argmax(dim=1) == train_label).sum().item()\n",
        "            total_acc_train += acc\n",
        "\n",
        "            model.zero_grad()\n",
        "            batch_loss.backward()\n",
        "            optimizer.step()\n",
        "\n",
        "        total_acc_val = 0\n",
        "        total_loss_val = 0\n",
        "        model.eval()\n",
        "        with torch.no_grad():\n",
        "            for batch in tqdm(val_dataloader, desc=f\"Testing epoch: {epoch_num+1}/{epochs}\",leave=False):\n",
        "                val_input,val_label = (instance.to(device) for instance in batch)\n",
        "                output = model(val_input)\n",
        "\n",
        "                batch_loss = criterion(output,val_label)\n",
        "                total_loss_val += batch_loss.item()\n",
        "\n",
        "                acc = (output.argmax(dim=1) == val_label).sum().item()\n",
        "                total_acc_val += acc\n",
        "\n",
        "        # Early stopping\n",
        "        if total_loss_val < best_val_loss:\n",
        "            best_val_loss = total_loss_val\n",
        "            patience = 5  # Reset patience counter on improvement\n",
        "        else:\n",
        "            patience -= 1\n",
        "\n",
        "        if patience == 0:\n",
        "            print(f\"Early Stopping: Validation loss hasn't improved after {epoch_num} epochs. Stopping training.\")\n",
        "            break\n",
        "\n",
        "        # print(f'Train Loss: {total_loss_train / len(train_data):.3f} | Train Accuracy: {total_acc_train/len(train_data):.3f}')\n",
        "    # print(f'Val loss: {total_loss_val/len(val_data):.3f} | Val Accuracy: {total_acc_val / len(val_data):.3f}')\n",
        "    # print(\"---\")\n",
        "    return total_acc_val / len(val_data)\n"
      ]
    },
    {
      "cell_type": "markdown",
      "metadata": {
        "id": "UNK8hcw_FEFH"
      },
      "source": [
        "#### d) Run the model and tuning hyperparameter"
      ]
    },
    {
      "cell_type": "code",
      "execution_count": 30,
      "metadata": {
        "id": "KPbkxjQkFEFI"
      },
      "outputs": [],
      "source": [
        "from copy import deepcopy\n",
        "\n",
        "def tune_hyperparameters(train_fn, model, train_data, val_data, configs):\n",
        "    best_val_acc = 0\n",
        "    best_model_state_dict = None\n",
        "    best_config = None\n",
        "\n",
        "    initial_state = deepcopy(model.state_dict())  # Save initial model state\n",
        "    epochs = configs['EPOCHS']\n",
        "    for lr in configs['LR']:\n",
        "        for batch_size in configs['BATCH_SIZE']:\n",
        "            print(f\"Training with: epochs={epochs}, lr={lr}, batch_size={batch_size}\")\n",
        "            model.load_state_dict(initial_state)  # Reset model to initial state for each configuration\n",
        "            val_acc = train_fn(model, train_data, val_data, learning_rate=lr, epochs=epochs, batch_size=batch_size)\n",
        "            if val_acc > best_val_acc:\n",
        "                best_val_acc = val_acc\n",
        "                best_model_state_dict = deepcopy(model.state_dict())\n",
        "                best_config = (epochs, lr, batch_size)\n",
        "            print(f\"Val Accuracy: {val_acc:.3f}\")\n",
        "            print(\"----------\")\n",
        "\n",
        "    print(f\"Best validation accuracy: {best_val_acc:.3f}\")\n",
        "    print(f\"Best configuration: epochs={best_config[0]}, lr={best_config[1]}, batch_size={best_config[2]}\")\n",
        "\n",
        "    #Load best model weights\n",
        "    if best_model_state_dict is not None:\n",
        "        model.load_state_dict(best_model_state_dict)\n",
        "\n",
        "    return model, best_config\n"
      ]
    },
    {
      "cell_type": "code",
      "execution_count": 31,
      "metadata": {
        "id": "s4LYtdA4qaVX"
      },
      "outputs": [],
      "source": [
        "def nn_model_report(model, val_data, batch_size, classes=encoder_1.classes_):\n",
        "    device = torch.device(\"cpu\")\n",
        "    model.to(device)\n",
        "\n",
        "    model.eval()\n",
        "    val_dataloader = torch.utils.data.DataLoader(val_data, batch_size=batch_size)\n",
        "    criterion = nn.CrossEntropyLoss()\n",
        "\n",
        "    total_acc_val = 0\n",
        "    total_loss_val = 0\n",
        "    pred_labels, true_labels = [], []\n",
        "\n",
        "    with torch.no_grad():\n",
        "        for batch in tqdm(val_dataloader):\n",
        "            val_input,val_label = (instance.to(device) for instance in batch)\n",
        "            output = model(val_input)\n",
        "\n",
        "            pred = output.argmax(dim=1)\n",
        "\n",
        "            acc = (pred == val_label).sum().item()\n",
        "            total_acc_val += acc\n",
        "\n",
        "            batch_loss = criterion(output,val_label)\n",
        "            total_loss_val += batch_loss.item()\n",
        "\n",
        "            pred_labels += pred.cpu()\n",
        "            true_labels += val_label.cpu()\n",
        "\n",
        "    print(f'Best loss: {total_loss_val/len(val_data):.3f} | Best Accuracy: {total_acc_val / len(val_data):.3f}')\n",
        "    print(classification_report(true_labels, pred_labels, target_names=classes))"
      ]
    },
    {
      "cell_type": "code",
      "execution_count": 32,
      "metadata": {
        "id": "VvXjPBwvFEFH"
      },
      "outputs": [],
      "source": [
        "train_data = Dataset_NN(train_df)\n",
        "test_data = Dataset_NN(test_df)"
      ]
    },
    {
      "cell_type": "markdown",
      "metadata": {},
      "source": [
        "##### Tuning hyperparameter, this takes 15 minutes to run"
      ]
    },
    {
      "cell_type": "code",
      "execution_count": 33,
      "metadata": {
        "id": "WdL2RZSTFEFH"
      },
      "outputs": [],
      "source": [
        "configs = {\n",
        "    'EPOCHS': 100,\n",
        "    'LR': [1e-5, 5e-5, 1e-4, 5e-4, 1e-3, 5e-3, 1e-2],\n",
        "    'BATCH_SIZE': [1]  # Batch size = 1 for using EmbeddingBag with different tensor lengths\n",
        "}"
      ]
    },
    {
      "cell_type": "code",
      "execution_count": 34,
      "metadata": {
        "id": "3Jc0o6CkFEFI"
      },
      "outputs": [
        {
          "name": "stdout",
          "output_type": "stream",
          "text": [
            "Training with: epochs=100, lr=1e-05, batch_size=1\n"
          ]
        },
        {
          "name": "stderr",
          "output_type": "stream",
          "text": [
            "                                                                            \r"
          ]
        },
        {
          "name": "stdout",
          "output_type": "stream",
          "text": [
            "Early Stopping: Validation loss hasn't improved after 76 epochs. Stopping training.\n",
            "Val Accuracy: 0.669\n",
            "----------\n",
            "Training with: epochs=100, lr=5e-05, batch_size=1\n"
          ]
        },
        {
          "name": "stderr",
          "output_type": "stream",
          "text": [
            "                                                                            \r"
          ]
        },
        {
          "name": "stdout",
          "output_type": "stream",
          "text": [
            "Early Stopping: Validation loss hasn't improved after 22 epochs. Stopping training.\n",
            "Val Accuracy: 0.662\n",
            "----------\n",
            "Training with: epochs=100, lr=0.0001, batch_size=1\n"
          ]
        },
        {
          "name": "stderr",
          "output_type": "stream",
          "text": [
            "                                                                            \r"
          ]
        },
        {
          "name": "stdout",
          "output_type": "stream",
          "text": [
            "Early Stopping: Validation loss hasn't improved after 12 epochs. Stopping training.\n",
            "Val Accuracy: 0.672\n",
            "----------\n",
            "Training with: epochs=100, lr=0.0005, batch_size=1\n"
          ]
        },
        {
          "name": "stderr",
          "output_type": "stream",
          "text": [
            "                                                                           \r"
          ]
        },
        {
          "name": "stdout",
          "output_type": "stream",
          "text": [
            "Early Stopping: Validation loss hasn't improved after 7 epochs. Stopping training.\n",
            "Val Accuracy: 0.689\n",
            "----------\n",
            "Training with: epochs=100, lr=0.001, batch_size=1\n"
          ]
        },
        {
          "name": "stderr",
          "output_type": "stream",
          "text": [
            "                                                                           \r"
          ]
        },
        {
          "name": "stdout",
          "output_type": "stream",
          "text": [
            "Early Stopping: Validation loss hasn't improved after 5 epochs. Stopping training.\n",
            "Val Accuracy: 0.700\n",
            "----------\n",
            "Training with: epochs=100, lr=0.005, batch_size=1\n"
          ]
        },
        {
          "name": "stderr",
          "output_type": "stream",
          "text": [
            "                                                                           \r"
          ]
        },
        {
          "name": "stdout",
          "output_type": "stream",
          "text": [
            "Early Stopping: Validation loss hasn't improved after 5 epochs. Stopping training.\n",
            "Val Accuracy: 0.697\n",
            "----------\n",
            "Training with: epochs=100, lr=0.01, batch_size=1\n"
          ]
        },
        {
          "name": "stderr",
          "output_type": "stream",
          "text": [
            "                                                                           "
          ]
        },
        {
          "name": "stdout",
          "output_type": "stream",
          "text": [
            "Early Stopping: Validation loss hasn't improved after 5 epochs. Stopping training.\n",
            "Val Accuracy: 0.691\n",
            "----------\n",
            "Best validation accuracy: 0.700\n",
            "Best configuration: epochs=100, lr=0.001, batch_size=1\n"
          ]
        },
        {
          "name": "stderr",
          "output_type": "stream",
          "text": [
            "\r"
          ]
        }
      ],
      "source": [
        "# it takes 15 minutes to run\n",
        "\n",
        "nn_model = NNClassifier(vocab_size=vocab_size, embed_dim=128)\n",
        "best_nn_model, best_nn_config = tune_hyperparameters(train_nn, nn_model, train_data, test_data, configs)"
      ]
    },
    {
      "cell_type": "markdown",
      "metadata": {},
      "source": [
        "##### Best model's performance"
      ]
    },
    {
      "cell_type": "code",
      "execution_count": 35,
      "metadata": {
        "id": "259ydknNqaVX"
      },
      "outputs": [
        {
          "name": "stderr",
          "output_type": "stream",
          "text": [
            "100%|██████████| 640/640 [00:00<00:00, 9643.05it/s]"
          ]
        },
        {
          "name": "stdout",
          "output_type": "stream",
          "text": [
            "Best loss: 1.646 | Best Accuracy: 0.700\n",
            "                precision    recall  f1-score   support\n",
            "\n",
            "not_propaganda       0.68      0.80      0.73       331\n",
            "    propaganda       0.74      0.59      0.65       309\n",
            "\n",
            "      accuracy                           0.70       640\n",
            "     macro avg       0.71      0.70      0.69       640\n",
            "  weighted avg       0.71      0.70      0.70       640\n",
            "\n"
          ]
        },
        {
          "name": "stderr",
          "output_type": "stream",
          "text": [
            "\n"
          ]
        }
      ],
      "source": [
        "nn_model_report(best_nn_model, test_data, best_nn_config[2])"
      ]
    },
    {
      "cell_type": "markdown",
      "metadata": {
        "id": "ApmGlLKw6tBy"
      },
      "source": [
        "## Task 2 - Propaganda Technique Classification"
      ]
    },
    {
      "cell_type": "code",
      "execution_count": 36,
      "metadata": {
        "colab": {
          "base_uri": "https://localhost:8080/",
          "height": 241
        },
        "id": "M3M_9hO9FEFN",
        "outputId": "831c829d-0666-43a2-e391-c0b656222f92"
      },
      "outputs": [
        {
          "data": {
            "text/html": [
              "<div>\n",
              "<style scoped>\n",
              "    .dataframe tbody tr th:only-of-type {\n",
              "        vertical-align: middle;\n",
              "    }\n",
              "\n",
              "    .dataframe tbody tr th {\n",
              "        vertical-align: top;\n",
              "    }\n",
              "\n",
              "    .dataframe thead th {\n",
              "        text-align: right;\n",
              "    }\n",
              "</style>\n",
              "<table border=\"1\" class=\"dataframe\">\n",
              "  <thead>\n",
              "    <tr style=\"text-align: right;\">\n",
              "      <th></th>\n",
              "      <th>label</th>\n",
              "      <th>tagged_in_context</th>\n",
              "      <th>propaganda_label</th>\n",
              "      <th>span</th>\n",
              "      <th>text_length</th>\n",
              "      <th>span_length</th>\n",
              "      <th>technique_label</th>\n",
              "    </tr>\n",
              "  </thead>\n",
              "  <tbody>\n",
              "    <tr>\n",
              "      <th>2</th>\n",
              "      <td>flag_waving</td>\n",
              "      <td>\"The Obama administration misled the &lt;BOS&gt; Ame...</td>\n",
              "      <td>1</td>\n",
              "      <td>American people</td>\n",
              "      <td>31</td>\n",
              "      <td>2</td>\n",
              "      <td>4</td>\n",
              "    </tr>\n",
              "    <tr>\n",
              "      <th>5</th>\n",
              "      <td>loaded_language</td>\n",
              "      <td>Hitler &lt;BOS&gt; annihilated &lt;EOS&gt; 400,000 Germans...</td>\n",
              "      <td>1</td>\n",
              "      <td>annihilated</td>\n",
              "      <td>19</td>\n",
              "      <td>1</td>\n",
              "      <td>5</td>\n",
              "    </tr>\n",
              "    <tr>\n",
              "      <th>8</th>\n",
              "      <td>doubt</td>\n",
              "      <td>As noted above, at this point literally every ...</td>\n",
              "      <td>1</td>\n",
              "      <td>so-called evidence</td>\n",
              "      <td>44</td>\n",
              "      <td>2</td>\n",
              "      <td>2</td>\n",
              "    </tr>\n",
              "    <tr>\n",
              "      <th>10</th>\n",
              "      <td>name_calling,labeling</td>\n",
              "      <td>His account was suspended for violating Twitte...</td>\n",
              "      <td>1</td>\n",
              "      <td>hateful conduct</td>\n",
              "      <td>40</td>\n",
              "      <td>2</td>\n",
              "      <td>6</td>\n",
              "    </tr>\n",
              "    <tr>\n",
              "      <th>12</th>\n",
              "      <td>appeal_to_fear_prejudice</td>\n",
              "      <td>A couple of seemingly unrelated events this pa...</td>\n",
              "      <td>1</td>\n",
              "      <td>point to Iran’s positioning itself for more a...</td>\n",
              "      <td>38</td>\n",
              "      <td>22</td>\n",
              "      <td>0</td>\n",
              "    </tr>\n",
              "  </tbody>\n",
              "</table>\n",
              "</div>"
            ],
            "text/plain": [
              "                       label  \\\n",
              "2                flag_waving   \n",
              "5            loaded_language   \n",
              "8                      doubt   \n",
              "10     name_calling,labeling   \n",
              "12  appeal_to_fear_prejudice   \n",
              "\n",
              "                                    tagged_in_context  propaganda_label  \\\n",
              "2   \"The Obama administration misled the <BOS> Ame...                 1   \n",
              "5   Hitler <BOS> annihilated <EOS> 400,000 Germans...                 1   \n",
              "8   As noted above, at this point literally every ...                 1   \n",
              "10  His account was suspended for violating Twitte...                 1   \n",
              "12  A couple of seemingly unrelated events this pa...                 1   \n",
              "\n",
              "                                                 span  text_length  \\\n",
              "2                                    American people            31   \n",
              "5                                        annihilated            19   \n",
              "8                                 so-called evidence            44   \n",
              "10                                   hateful conduct            40   \n",
              "12   point to Iran’s positioning itself for more a...           38   \n",
              "\n",
              "    span_length  technique_label  \n",
              "2             2                4  \n",
              "5             1                5  \n",
              "8             2                2  \n",
              "10            2                6  \n",
              "12           22                0  "
            ]
          },
          "execution_count": 36,
          "metadata": {},
          "output_type": "execute_result"
        }
      ],
      "source": [
        "encoder_2 = LabelEncoder()\n",
        "\n",
        "train_df_2 = train_df[train_df['label'] != \"not_propaganda\"].copy()\n",
        "train_df_2['technique_label'] = encoder_2.fit_transform(train_df_2['label'])\n",
        "\n",
        "test_df_2 = test_df[test_df['label'] != \"not_propaganda\"].copy()\n",
        "test_df_2['technique_label'] = encoder_2.transform(test_df_2['label'])\n",
        "\n",
        "train_df_2.head()"
      ]
    },
    {
      "cell_type": "markdown",
      "metadata": {
        "id": "cKIxZudXqaVY"
      },
      "source": [
        "### 1. Baseline performance"
      ]
    },
    {
      "cell_type": "code",
      "execution_count": 37,
      "metadata": {
        "id": "WGYr9JrTqaVY",
        "outputId": "5da7bfae-9378-4221-ef63-6b96025781db"
      },
      "outputs": [
        {
          "name": "stdout",
          "output_type": "stream",
          "text": [
            "The accuracy of the model is 22.653721682847898%\n",
            "                           precision    recall  f1-score   support\n",
            "\n",
            " appeal_to_fear_prejudice       0.20      0.07      0.10        43\n",
            "causal_oversimplification       0.26      0.69      0.38        35\n",
            "                    doubt       0.00      0.00      0.00        43\n",
            "exaggeration,minimisation       0.14      0.23      0.17        30\n",
            "              flag_waving       0.11      0.04      0.06        45\n",
            "          loaded_language       0.00      0.00      0.00        39\n",
            "    name_calling,labeling       0.21      0.21      0.21        34\n",
            "               repetition       0.27      0.68      0.38        40\n",
            "\n",
            "                 accuracy                           0.23       309\n",
            "                macro avg       0.15      0.24      0.16       309\n",
            "             weighted avg       0.15      0.23      0.16       309\n",
            "\n"
          ]
        }
      ],
      "source": [
        "X_train, y_train = train_df_2['span_length'], train_df_2['technique_label']\n",
        "X_test, y_test = test_df_2['span_length'], test_df_2['technique_label']\n",
        "\n",
        "classifier = LogisticRegression(random_state=candidate_number)\n",
        "classifier.fit(X_train.values.reshape(-1,1), y_train)\n",
        "\n",
        "y_pred = classifier.predict(X_test.values.reshape(-1,1))\n",
        "accuracy = accuracy_score(y_test, y_pred)\n",
        "\n",
        "print(f\"The accuracy of the model is {accuracy*100}%\")\n",
        "print(classification_report(y_test, y_pred, target_names=encoder_2.classes_))"
      ]
    },
    {
      "cell_type": "markdown",
      "metadata": {
        "id": "4NkxNG8xFEFN"
      },
      "source": [
        "### 2. Bag of Words"
      ]
    },
    {
      "cell_type": "markdown",
      "metadata": {
        "id": "z4ls_3pHqaVY"
      },
      "source": [
        "#### a) Run with features from text vectorization"
      ]
    },
    {
      "cell_type": "code",
      "execution_count": 38,
      "metadata": {
        "id": "P-gjxWmzFEFN"
      },
      "outputs": [
        {
          "name": "stdout",
          "output_type": "stream",
          "text": [
            "Training MultinomialNB...\n"
          ]
        },
        {
          "name": "stderr",
          "output_type": "stream",
          "text": [
            "100%|██████████| 5/5 [00:05<00:00,  1.07s/it]\n"
          ]
        },
        {
          "name": "stdout",
          "output_type": "stream",
          "text": [
            "MultinomialNB (Params: {}) with vectorizer (ngram_range:(4, 4), analyzer:char):\n",
            "Validation Accuracy: 0.4077669902912621\n",
            "                           precision    recall  f1-score   support\n",
            "\n",
            " appeal_to_fear_prejudice       0.44      0.44      0.44        43\n",
            "causal_oversimplification       0.37      0.57      0.45        35\n",
            "                    doubt       0.42      0.49      0.45        43\n",
            "exaggeration,minimisation       0.33      0.47      0.38        30\n",
            "              flag_waving       0.57      0.67      0.61        45\n",
            "          loaded_language       0.21      0.08      0.11        39\n",
            "    name_calling,labeling       0.27      0.21      0.23        34\n",
            "               repetition       0.46      0.30      0.36        40\n",
            "\n",
            "                 accuracy                           0.41       309\n",
            "                macro avg       0.38      0.40      0.38       309\n",
            "             weighted avg       0.39      0.41      0.39       309\n",
            "\n",
            "--------------------\n",
            "Training LogisticRegression...\n"
          ]
        },
        {
          "name": "stderr",
          "output_type": "stream",
          "text": [
            "100%|██████████| 5/5 [01:40<00:00, 20.17s/it]\n"
          ]
        },
        {
          "name": "stdout",
          "output_type": "stream",
          "text": [
            "LogisticRegression (Params: {'C': 0.1, 'max_iter': 10000, 'penalty': 'l2'}) with vectorizer (ngram_range:(5, 5), analyzer:char):\n",
            "Validation Accuracy: 0.4627831715210356\n",
            "                           precision    recall  f1-score   support\n",
            "\n",
            " appeal_to_fear_prejudice       0.47      0.42      0.44        43\n",
            "causal_oversimplification       0.41      0.49      0.45        35\n",
            "                    doubt       0.48      0.56      0.52        43\n",
            "exaggeration,minimisation       0.38      0.53      0.44        30\n",
            "              flag_waving       0.68      0.62      0.65        45\n",
            "          loaded_language       0.42      0.28      0.34        39\n",
            "    name_calling,labeling       0.43      0.38      0.41        34\n",
            "               repetition       0.39      0.40      0.40        40\n",
            "\n",
            "                 accuracy                           0.46       309\n",
            "                macro avg       0.46      0.46      0.46       309\n",
            "             weighted avg       0.47      0.46      0.46       309\n",
            "\n",
            "--------------------\n",
            "Training RandomForestClassifier...\n"
          ]
        },
        {
          "name": "stderr",
          "output_type": "stream",
          "text": [
            "100%|██████████| 5/5 [02:01<00:00, 24.36s/it]\n"
          ]
        },
        {
          "name": "stdout",
          "output_type": "stream",
          "text": [
            "RandomForestClassifier (Params: {'max_depth': None, 'n_estimators': 200, 'random_state': 277269}) with vectorizer (ngram_range:(5, 5), analyzer:char):\n",
            "Validation Accuracy: 0.4336569579288026\n",
            "                           precision    recall  f1-score   support\n",
            "\n",
            " appeal_to_fear_prejudice       0.57      0.30      0.39        43\n",
            "causal_oversimplification       0.39      0.66      0.49        35\n",
            "                    doubt       0.49      0.42      0.45        43\n",
            "exaggeration,minimisation       0.33      0.37      0.35        30\n",
            "              flag_waving       0.60      0.69      0.64        45\n",
            "          loaded_language       0.26      0.33      0.29        39\n",
            "    name_calling,labeling       0.52      0.35      0.42        34\n",
            "               repetition       0.41      0.33      0.36        40\n",
            "\n",
            "                 accuracy                           0.43       309\n",
            "                macro avg       0.44      0.43      0.42       309\n",
            "             weighted avg       0.45      0.43      0.43       309\n",
            "\n",
            "--------------------\n",
            "Training KNeighborsClassifier...\n"
          ]
        },
        {
          "name": "stderr",
          "output_type": "stream",
          "text": [
            "100%|██████████| 5/5 [00:03<00:00,  1.56it/s]\n"
          ]
        },
        {
          "name": "stdout",
          "output_type": "stream",
          "text": [
            "KNeighborsClassifier (Params: {'n_neighbors': 8, 'weights': 'distance'}) with vectorizer (ngram_range:(2, 2), analyzer:char):\n",
            "Validation Accuracy: 0.24919093851132687\n",
            "                           precision    recall  f1-score   support\n",
            "\n",
            " appeal_to_fear_prejudice       0.32      0.21      0.25        43\n",
            "causal_oversimplification       0.24      0.31      0.27        35\n",
            "                    doubt       0.26      0.21      0.23        43\n",
            "exaggeration,minimisation       0.11      0.17      0.13        30\n",
            "              flag_waving       0.47      0.44      0.45        45\n",
            "          loaded_language       0.12      0.08      0.10        39\n",
            "    name_calling,labeling       0.16      0.09      0.11        34\n",
            "               repetition       0.24      0.42      0.31        40\n",
            "\n",
            "                 accuracy                           0.25       309\n",
            "                macro avg       0.24      0.24      0.23       309\n",
            "             weighted avg       0.25      0.25      0.24       309\n",
            "\n",
            "--------------------\n",
            "Training SVC...\n"
          ]
        },
        {
          "name": "stderr",
          "output_type": "stream",
          "text": [
            "100%|██████████| 5/5 [06:19<00:00, 75.92s/it] "
          ]
        },
        {
          "name": "stdout",
          "output_type": "stream",
          "text": [
            "SVC (Params: {'C': 0.1, 'kernel': 'linear', 'random_state': 277269}) with vectorizer (ngram_range:(5, 5), analyzer:char):\n",
            "Validation Accuracy: 0.47896440129449835\n",
            "                           precision    recall  f1-score   support\n",
            "\n",
            " appeal_to_fear_prejudice       0.49      0.49      0.49        43\n",
            "causal_oversimplification       0.41      0.54      0.47        35\n",
            "                    doubt       0.50      0.47      0.48        43\n",
            "exaggeration,minimisation       0.44      0.50      0.47        30\n",
            "              flag_waving       0.71      0.67      0.69        45\n",
            "          loaded_language       0.42      0.36      0.39        39\n",
            "    name_calling,labeling       0.48      0.41      0.44        34\n",
            "               repetition       0.36      0.38      0.37        40\n",
            "\n",
            "                 accuracy                           0.48       309\n",
            "                macro avg       0.48      0.48      0.47       309\n",
            "             weighted avg       0.48      0.48      0.48       309\n",
            "\n",
            "--------------------\n"
          ]
        },
        {
          "name": "stderr",
          "output_type": "stream",
          "text": [
            "\n"
          ]
        }
      ],
      "source": [
        "# it takes 10 minutes to run\n",
        "\n",
        "X_train, y_train = train_df_2['tagged_in_context'], train_df_2['technique_label']\n",
        "X_test, y_test = test_df_2['tagged_in_context'], test_df_2['technique_label']\n",
        "\n",
        "vectorizer_params = {\n",
        "    'ngram_range': [(1, 1), (2, 2), (3, 3), (4, 4), (5, 5)],\n",
        "    'analyzer': ['word', 'char', 'char_wb'],\n",
        "}\n",
        "\n",
        "classifiers = [\n",
        "    {'model': MultinomialNB(), 'params': {}},\n",
        "    {'model': LogisticRegression(), 'params': {'penalty': ['l1','l2'], 'C': [0.1, 1, 10], 'max_iter': [10000]}},\n",
        "    {'model': RandomForestClassifier(), 'params': {'n_estimators': [100, 200], 'max_depth': [None, 5, 10], \"random_state\":[candidate_number]}},\n",
        "    {'model': KNeighborsClassifier(), 'params': {'n_neighbors': [len(train_df_2[\"label\"].unique())], 'weights': ['uniform', 'distance']}},\n",
        "    {'model': SVC(), 'params': {'kernel': ['linear', 'rbf'], 'C': [0.1, 1, 10], \"random_state\":[candidate_number]}},\n",
        "]\n",
        "\n",
        "for config in classifiers:\n",
        "    print(f\"Training {config['model'].__class__.__name__}...\")\n",
        "    best_accuracy = 0\n",
        "    best_parameters = None\n",
        "    best_model = None\n",
        "    best_y_pred = None\n",
        "    best_vectorizer = None\n",
        "    for ngram_range in tqdm(vectorizer_params['ngram_range']):\n",
        "        for analyzer in tqdm(vectorizer_params['analyzer'],leave=False):\n",
        "            vectorizer = CountVectorizer(ngram_range=ngram_range, analyzer=analyzer)\n",
        "            X_train_vector = vectorizer.fit_transform(X_train)\n",
        "            X_test_vector = vectorizer.transform(X_test)\n",
        "\n",
        "            classifier = config['model']\n",
        "            grid_params = config['params']\n",
        "\n",
        "            grid_search = GridSearchCV(classifier, grid_params, n_jobs=-1)\n",
        "            grid_search.fit(X_train_vector, y_train)\n",
        "            model = grid_search.best_estimator_\n",
        "\n",
        "            y_pred = model.predict(X_test_vector)\n",
        "            accuracy = accuracy_score(y_test, y_pred)\n",
        "\n",
        "            if accuracy > best_accuracy:\n",
        "                best_accuracy = accuracy\n",
        "                best_parameters = grid_search.best_params_\n",
        "                best_model = grid_search.best_estimator_\n",
        "                best_y_pred = y_pred\n",
        "                best_vectorizer = vectorizer\n",
        "    print(f\"{classifier.__class__.__name__} (Params: {best_parameters}) with vectorizer (ngram_range:{best_vectorizer.get_params()['ngram_range']}, analyzer:{best_vectorizer.get_params()['analyzer']}):\")\n",
        "    print(f\"Validation Accuracy:\", best_accuracy)\n",
        "    print(classification_report(y_test, best_y_pred, target_names=encoder_2.classes_))\n",
        "    print(\"-\" * 20)\n"
      ]
    },
    {
      "cell_type": "markdown",
      "metadata": {
        "id": "CtkXHTibqaVZ"
      },
      "source": [
        "#### b) Run with features from span vectorization"
      ]
    },
    {
      "cell_type": "code",
      "execution_count": 39,
      "metadata": {
        "id": "7JtYq6dkqaVZ",
        "outputId": "96499f13-ec3a-4aed-9802-9b9183745310"
      },
      "outputs": [
        {
          "name": "stdout",
          "output_type": "stream",
          "text": [
            "Training MultinomialNB...\n"
          ]
        },
        {
          "name": "stderr",
          "output_type": "stream",
          "text": [
            "100%|██████████| 5/5 [00:00<00:00,  6.34it/s]\n"
          ]
        },
        {
          "name": "stdout",
          "output_type": "stream",
          "text": [
            "MultinomialNB (Params: {}) with vectorizer (ngram_range:(3, 3), analyzer:char):\n",
            "Validation Accuracy: 0.44660194174757284\n",
            "                           precision    recall  f1-score   support\n",
            "\n",
            " appeal_to_fear_prejudice       0.34      0.44      0.38        43\n",
            "causal_oversimplification       0.34      0.69      0.46        35\n",
            "                    doubt       0.43      0.74      0.54        43\n",
            "exaggeration,minimisation       0.44      0.37      0.40        30\n",
            "              flag_waving       0.62      0.53      0.57        45\n",
            "          loaded_language       0.63      0.31      0.41        39\n",
            "    name_calling,labeling       0.54      0.21      0.30        34\n",
            "               repetition       0.75      0.23      0.35        40\n",
            "\n",
            "                 accuracy                           0.45       309\n",
            "                macro avg       0.51      0.44      0.43       309\n",
            "             weighted avg       0.51      0.45      0.43       309\n",
            "\n",
            "--------------------\n",
            "Training LogisticRegression...\n"
          ]
        },
        {
          "name": "stderr",
          "output_type": "stream",
          "text": [
            "100%|██████████| 5/5 [00:25<00:00,  5.10s/it]\n"
          ]
        },
        {
          "name": "stdout",
          "output_type": "stream",
          "text": [
            "LogisticRegression (Params: {'C': 1, 'max_iter': 10000, 'penalty': 'l2'}) with vectorizer (ngram_range:(5, 5), analyzer:char_wb):\n",
            "Validation Accuracy: 0.5275080906148867\n",
            "                           precision    recall  f1-score   support\n",
            "\n",
            " appeal_to_fear_prejudice       0.55      0.49      0.52        43\n",
            "causal_oversimplification       0.44      0.46      0.45        35\n",
            "                    doubt       0.48      0.49      0.48        43\n",
            "exaggeration,minimisation       0.45      0.50      0.48        30\n",
            "              flag_waving       0.76      0.62      0.68        45\n",
            "          loaded_language       0.47      0.69      0.56        39\n",
            "    name_calling,labeling       0.57      0.50      0.53        34\n",
            "               repetition       0.53      0.45      0.49        40\n",
            "\n",
            "                 accuracy                           0.53       309\n",
            "                macro avg       0.53      0.52      0.52       309\n",
            "             weighted avg       0.54      0.53      0.53       309\n",
            "\n",
            "--------------------\n",
            "Training RandomForestClassifier...\n"
          ]
        },
        {
          "name": "stderr",
          "output_type": "stream",
          "text": [
            "100%|██████████| 5/5 [01:11<00:00, 14.27s/it]\n"
          ]
        },
        {
          "name": "stdout",
          "output_type": "stream",
          "text": [
            "RandomForestClassifier (Params: {'max_depth': None, 'n_estimators': 200, 'random_state': 277269}) with vectorizer (ngram_range:(4, 4), analyzer:char_wb):\n",
            "Validation Accuracy: 0.5210355987055016\n",
            "                           precision    recall  f1-score   support\n",
            "\n",
            " appeal_to_fear_prejudice       0.43      0.21      0.28        43\n",
            "causal_oversimplification       0.45      0.71      0.55        35\n",
            "                    doubt       0.62      0.37      0.46        43\n",
            "exaggeration,minimisation       0.44      0.57      0.49        30\n",
            "              flag_waving       0.72      0.73      0.73        45\n",
            "          loaded_language       0.45      0.72      0.55        39\n",
            "    name_calling,labeling       0.62      0.47      0.53        34\n",
            "               repetition       0.52      0.42      0.47        40\n",
            "\n",
            "                 accuracy                           0.52       309\n",
            "                macro avg       0.53      0.53      0.51       309\n",
            "             weighted avg       0.53      0.52      0.51       309\n",
            "\n",
            "--------------------\n",
            "Training KNeighborsClassifier...\n"
          ]
        },
        {
          "name": "stderr",
          "output_type": "stream",
          "text": [
            "100%|██████████| 5/5 [00:01<00:00,  3.89it/s]\n"
          ]
        },
        {
          "name": "stdout",
          "output_type": "stream",
          "text": [
            "KNeighborsClassifier (Params: {'n_neighbors': 8, 'weights': 'distance'}) with vectorizer (ngram_range:(2, 2), analyzer:char):\n",
            "Validation Accuracy: 0.37540453074433655\n",
            "                           precision    recall  f1-score   support\n",
            "\n",
            " appeal_to_fear_prejudice       0.32      0.14      0.19        43\n",
            "causal_oversimplification       0.39      0.43      0.41        35\n",
            "                    doubt       0.47      0.19      0.27        43\n",
            "exaggeration,minimisation       0.24      0.33      0.28        30\n",
            "              flag_waving       0.45      0.64      0.53        45\n",
            "          loaded_language       0.34      0.28      0.31        39\n",
            "    name_calling,labeling       0.54      0.38      0.45        34\n",
            "               repetition       0.33      0.60      0.43        40\n",
            "\n",
            "                 accuracy                           0.38       309\n",
            "                macro avg       0.39      0.37      0.36       309\n",
            "             weighted avg       0.39      0.38      0.36       309\n",
            "\n",
            "--------------------\n",
            "Training SVC...\n"
          ]
        },
        {
          "name": "stderr",
          "output_type": "stream",
          "text": [
            "100%|██████████| 5/5 [00:51<00:00, 10.22s/it]"
          ]
        },
        {
          "name": "stdout",
          "output_type": "stream",
          "text": [
            "SVC (Params: {'C': 1, 'kernel': 'linear', 'random_state': 277269}) with vectorizer (ngram_range:(5, 5), analyzer:char_wb):\n",
            "Validation Accuracy: 0.4919093851132686\n",
            "                           precision    recall  f1-score   support\n",
            "\n",
            " appeal_to_fear_prejudice       0.49      0.42      0.45        43\n",
            "causal_oversimplification       0.42      0.57      0.48        35\n",
            "                    doubt       0.43      0.35      0.38        43\n",
            "exaggeration,minimisation       0.47      0.50      0.48        30\n",
            "              flag_waving       0.74      0.62      0.67        45\n",
            "          loaded_language       0.48      0.59      0.53        39\n",
            "    name_calling,labeling       0.62      0.44      0.52        34\n",
            "               repetition       0.38      0.45      0.41        40\n",
            "\n",
            "                 accuracy                           0.49       309\n",
            "                macro avg       0.50      0.49      0.49       309\n",
            "             weighted avg       0.51      0.49      0.49       309\n",
            "\n",
            "--------------------\n"
          ]
        },
        {
          "name": "stderr",
          "output_type": "stream",
          "text": [
            "\n"
          ]
        }
      ],
      "source": [
        "# it takes 3 minutes to run\n",
        "\n",
        "X_train, y_train = train_df_2['span'], train_df_2['technique_label']\n",
        "X_test, y_test = test_df_2['span'], test_df_2['technique_label']\n",
        "\n",
        "vectorizer_params = {\n",
        "    'ngram_range': [(1, 1), (2, 2), (3, 3), (4, 4), (5, 5)],\n",
        "    'analyzer': ['word', 'char', 'char_wb'],\n",
        "}\n",
        "\n",
        "classifiers = [\n",
        "    {'model': MultinomialNB(), 'params': {}},\n",
        "    {'model': LogisticRegression(), 'params': {'penalty': ['l1','l2'], 'C': [0.1, 1, 10], 'max_iter': [10000]}},\n",
        "    {'model': RandomForestClassifier(), 'params': {'n_estimators': [100, 200], 'max_depth': [None, 5, 10], \"random_state\":[candidate_number]}},\n",
        "    {'model': KNeighborsClassifier(), 'params': {'n_neighbors': [len(train_df_2[\"label\"].unique())], 'weights': ['uniform', 'distance']}},\n",
        "    {'model': SVC(), 'params': {'kernel': ['linear', 'rbf'], 'C': [0.1, 1, 10], \"random_state\":[candidate_number]}},\n",
        "]\n",
        "\n",
        "for config in classifiers:\n",
        "    print(f\"Training {config['model'].__class__.__name__}...\")\n",
        "    best_accuracy = 0\n",
        "    best_parameters = None\n",
        "    best_model = None\n",
        "    best_y_pred = None\n",
        "    best_vectorizer = None\n",
        "    for ngram_range in tqdm(vectorizer_params['ngram_range']):\n",
        "        for analyzer in tqdm(vectorizer_params['analyzer'],leave=False):\n",
        "            vectorizer = CountVectorizer(ngram_range=ngram_range, analyzer=analyzer)\n",
        "            X_train_vector = vectorizer.fit_transform(X_train)\n",
        "            X_test_vector = vectorizer.transform(X_test)\n",
        "\n",
        "            classifier = config['model']\n",
        "            grid_params = config['params']\n",
        "\n",
        "            grid_search = GridSearchCV(classifier, grid_params, n_jobs=-1)\n",
        "            grid_search.fit(X_train_vector, y_train)\n",
        "            model = grid_search.best_estimator_\n",
        "\n",
        "            y_pred = model.predict(X_test_vector)\n",
        "            accuracy = accuracy_score(y_test, y_pred)\n",
        "\n",
        "            if accuracy > best_accuracy:\n",
        "                best_accuracy = accuracy\n",
        "                best_parameters = grid_search.best_params_\n",
        "                best_model = grid_search.best_estimator_\n",
        "                best_y_pred = y_pred\n",
        "                best_vectorizer = vectorizer\n",
        "    print(f\"{classifier.__class__.__name__} (Params: {best_parameters}) with vectorizer (ngram_range:{best_vectorizer.get_params()['ngram_range']}, analyzer:{best_vectorizer.get_params()['analyzer']}):\")\n",
        "    print(f\"Validation Accuracy:\", best_accuracy)\n",
        "    print(classification_report(y_test, best_y_pred, target_names=encoder_2.classes_))\n",
        "    print(\"-\" * 20)\n"
      ]
    },
    {
      "cell_type": "markdown",
      "metadata": {
        "id": "AftVsWArDl1s"
      },
      "source": [
        "### 3. Pre-trained Large Language Model - BERT"
      ]
    },
    {
      "cell_type": "markdown",
      "metadata": {
        "id": "G4XlPtK4qaVZ"
      },
      "source": [
        "#### a) Run with texts as features"
      ]
    },
    {
      "cell_type": "code",
      "execution_count": 40,
      "metadata": {
        "id": "xPU8c5dC6znR"
      },
      "outputs": [],
      "source": [
        "train_data_2 = Dataset_Bert(train_df_2, labels=\"technique_label\")\n",
        "test_data_2 = Dataset_Bert(test_df_2, labels=\"technique_label\")"
      ]
    },
    {
      "cell_type": "markdown",
      "metadata": {},
      "source": [
        "##### Tuning hyperparameter, this takes 90 minutes to run"
      ]
    },
    {
      "cell_type": "code",
      "execution_count": 41,
      "metadata": {
        "id": "-FVTH6TF_69T"
      },
      "outputs": [],
      "source": [
        "configs = {\n",
        "    'EPOCHS': 20,\n",
        "    'LR': [1e-5, 5e-5],\n",
        "    'BATCH_SIZE': [16, 8, 2]\n",
        "}"
      ]
    },
    {
      "cell_type": "code",
      "execution_count": 42,
      "metadata": {
        "id": "ZWz8wqppAFsT"
      },
      "outputs": [
        {
          "name": "stderr",
          "output_type": "stream",
          "text": [
            "Some weights of BertForSequenceClassification were not initialized from the model checkpoint at bert-base-uncased and are newly initialized: ['classifier.bias', 'classifier.weight']\n",
            "You should probably TRAIN this model on a down-stream task to be able to use it for predictions and inference.\n"
          ]
        },
        {
          "name": "stdout",
          "output_type": "stream",
          "text": [
            "Training with: epochs=20, lr=1e-05, batch_size=16\n"
          ]
        },
        {
          "name": "stderr",
          "output_type": "stream",
          "text": [
            "                                                                      \r"
          ]
        },
        {
          "name": "stdout",
          "output_type": "stream",
          "text": [
            "Early Stopping: Validation loss hasn't improved after 10 epochs. Stopping training.\n",
            "Val Accuracy: 0.560\n",
            "----------\n",
            "Training with: epochs=20, lr=1e-05, batch_size=8\n"
          ]
        },
        {
          "name": "stderr",
          "output_type": "stream",
          "text": [
            "                                                                        \r"
          ]
        },
        {
          "name": "stdout",
          "output_type": "stream",
          "text": [
            "Early Stopping: Validation loss hasn't improved after 9 epochs. Stopping training.\n",
            "Val Accuracy: 0.605\n",
            "----------\n",
            "Training with: epochs=20, lr=1e-05, batch_size=2\n"
          ]
        },
        {
          "name": "stderr",
          "output_type": "stream",
          "text": [
            "                                                                       \r"
          ]
        },
        {
          "name": "stdout",
          "output_type": "stream",
          "text": [
            "Early Stopping: Validation loss hasn't improved after 7 epochs. Stopping training.\n",
            "Val Accuracy: 0.608\n",
            "----------\n",
            "Training with: epochs=20, lr=5e-05, batch_size=16\n"
          ]
        },
        {
          "name": "stderr",
          "output_type": "stream",
          "text": [
            "                                                                     \r"
          ]
        },
        {
          "name": "stdout",
          "output_type": "stream",
          "text": [
            "Early Stopping: Validation loss hasn't improved after 7 epochs. Stopping training.\n",
            "Val Accuracy: 0.595\n",
            "----------\n",
            "Training with: epochs=20, lr=5e-05, batch_size=8\n"
          ]
        },
        {
          "name": "stderr",
          "output_type": "stream",
          "text": [
            "                                                                       \r"
          ]
        },
        {
          "name": "stdout",
          "output_type": "stream",
          "text": [
            "Early Stopping: Validation loss hasn't improved after 6 epochs. Stopping training.\n",
            "Val Accuracy: 0.579\n",
            "----------\n",
            "Training with: epochs=20, lr=5e-05, batch_size=2\n"
          ]
        },
        {
          "name": "stderr",
          "output_type": "stream",
          "text": [
            "                                                                       "
          ]
        },
        {
          "name": "stdout",
          "output_type": "stream",
          "text": [
            "Early Stopping: Validation loss hasn't improved after 7 epochs. Stopping training.\n",
            "Val Accuracy: 0.139\n",
            "----------\n",
            "Best validation accuracy: 0.608\n",
            "Best configuration: epochs=20, lr=1e-05, batch_size=2\n"
          ]
        },
        {
          "name": "stderr",
          "output_type": "stream",
          "text": [
            "\r"
          ]
        }
      ],
      "source": [
        "# it takes 90 minutes to run\n",
        "\n",
        "bert_model = BertForSequenceClassification.from_pretrained('bert-base-uncased', num_labels=len(train_df_2['technique_label'].unique()))\n",
        "best_bert_multi, best_config_multi = tune_hyperparameters(train_bert, bert_model, train_data_2, test_data_2, configs)"
      ]
    },
    {
      "cell_type": "markdown",
      "metadata": {},
      "source": [
        "##### Best model's performance"
      ]
    },
    {
      "cell_type": "code",
      "execution_count": 43,
      "metadata": {
        "id": "3HefGighWqRw"
      },
      "outputs": [
        {
          "name": "stderr",
          "output_type": "stream",
          "text": [
            "100%|██████████| 155/155 [00:07<00:00, 21.16it/s]"
          ]
        },
        {
          "name": "stdout",
          "output_type": "stream",
          "text": [
            "Best loss: 0.809 | Best Accuracy: 0.608\n",
            "                           precision    recall  f1-score   support\n",
            "\n",
            " appeal_to_fear_prejudice       0.57      0.74      0.65        43\n",
            "causal_oversimplification       0.66      0.66      0.66        35\n",
            "                    doubt       0.69      0.77      0.73        43\n",
            "exaggeration,minimisation       0.44      0.40      0.42        30\n",
            "              flag_waving       0.70      0.71      0.70        45\n",
            "          loaded_language       0.55      0.54      0.55        39\n",
            "    name_calling,labeling       0.68      0.62      0.65        34\n",
            "               repetition       0.50      0.35      0.41        40\n",
            "\n",
            "                 accuracy                           0.61       309\n",
            "                macro avg       0.60      0.60      0.59       309\n",
            "             weighted avg       0.60      0.61      0.60       309\n",
            "\n"
          ]
        },
        {
          "name": "stderr",
          "output_type": "stream",
          "text": [
            "\n"
          ]
        }
      ],
      "source": [
        "bert_model_report(best_bert_multi, test_data_2, best_config_multi[2], classes=encoder_2.classes_)"
      ]
    },
    {
      "cell_type": "markdown",
      "metadata": {
        "id": "4i_Kqj3rqaVZ"
      },
      "source": [
        "#### b) Run with spans as features"
      ]
    },
    {
      "cell_type": "code",
      "execution_count": 44,
      "metadata": {
        "id": "Rr1m0cmlqaVZ"
      },
      "outputs": [],
      "source": [
        "train_data_2 = Dataset_Bert(train_df_2, labels=\"technique_label\", sents='span', max_length=128)\n",
        "test_data_2 = Dataset_Bert(test_df_2, labels=\"technique_label\", sents='span', max_length=128)"
      ]
    },
    {
      "cell_type": "markdown",
      "metadata": {},
      "source": [
        "##### Tuning hyperparameter, this takes 50 minutes to run"
      ]
    },
    {
      "cell_type": "code",
      "execution_count": 45,
      "metadata": {
        "id": "TRNi5OzSqaVZ"
      },
      "outputs": [],
      "source": [
        "configs = {\n",
        "    'EPOCHS': 20,\n",
        "    'LR': [1e-5, 5e-5],\n",
        "    'BATCH_SIZE': [16, 8, 2]\n",
        "}"
      ]
    },
    {
      "cell_type": "code",
      "execution_count": 46,
      "metadata": {
        "id": "j_eTsesKqaVZ"
      },
      "outputs": [
        {
          "name": "stderr",
          "output_type": "stream",
          "text": [
            "Some weights of BertForSequenceClassification were not initialized from the model checkpoint at bert-base-uncased and are newly initialized: ['classifier.bias', 'classifier.weight']\n",
            "You should probably TRAIN this model on a down-stream task to be able to use it for predictions and inference.\n"
          ]
        },
        {
          "name": "stdout",
          "output_type": "stream",
          "text": [
            "Training with: epochs=20, lr=1e-05, batch_size=16\n"
          ]
        },
        {
          "name": "stderr",
          "output_type": "stream",
          "text": [
            "                                                                      \r"
          ]
        },
        {
          "name": "stdout",
          "output_type": "stream",
          "text": [
            "Early Stopping: Validation loss hasn't improved after 11 epochs. Stopping training.\n",
            "Val Accuracy: 0.670\n",
            "----------\n",
            "Training with: epochs=20, lr=1e-05, batch_size=8\n"
          ]
        },
        {
          "name": "stderr",
          "output_type": "stream",
          "text": [
            "                                                                        \r"
          ]
        },
        {
          "name": "stdout",
          "output_type": "stream",
          "text": [
            "Early Stopping: Validation loss hasn't improved after 9 epochs. Stopping training.\n",
            "Val Accuracy: 0.634\n",
            "----------\n",
            "Training with: epochs=20, lr=1e-05, batch_size=2\n"
          ]
        },
        {
          "name": "stderr",
          "output_type": "stream",
          "text": [
            "                                                                       \r"
          ]
        },
        {
          "name": "stdout",
          "output_type": "stream",
          "text": [
            "Early Stopping: Validation loss hasn't improved after 7 epochs. Stopping training.\n",
            "Val Accuracy: 0.599\n",
            "----------\n",
            "Training with: epochs=20, lr=5e-05, batch_size=16\n"
          ]
        },
        {
          "name": "stderr",
          "output_type": "stream",
          "text": [
            "                                                                     \r"
          ]
        },
        {
          "name": "stdout",
          "output_type": "stream",
          "text": [
            "Early Stopping: Validation loss hasn't improved after 6 epochs. Stopping training.\n",
            "Val Accuracy: 0.667\n",
            "----------\n",
            "Training with: epochs=20, lr=5e-05, batch_size=8\n"
          ]
        },
        {
          "name": "stderr",
          "output_type": "stream",
          "text": [
            "                                                                       \r"
          ]
        },
        {
          "name": "stdout",
          "output_type": "stream",
          "text": [
            "Early Stopping: Validation loss hasn't improved after 6 epochs. Stopping training.\n",
            "Val Accuracy: 0.634\n",
            "----------\n",
            "Training with: epochs=20, lr=5e-05, batch_size=2\n"
          ]
        },
        {
          "name": "stderr",
          "output_type": "stream",
          "text": [
            "                                                                       "
          ]
        },
        {
          "name": "stdout",
          "output_type": "stream",
          "text": [
            "Early Stopping: Validation loss hasn't improved after 6 epochs. Stopping training.\n",
            "Val Accuracy: 0.618\n",
            "----------\n",
            "Best validation accuracy: 0.670\n",
            "Best configuration: epochs=20, lr=1e-05, batch_size=16\n"
          ]
        },
        {
          "name": "stderr",
          "output_type": "stream",
          "text": [
            "\r"
          ]
        }
      ],
      "source": [
        "# it takes 50 minutes to run\n",
        "\n",
        "bert_model = BertForSequenceClassification.from_pretrained('bert-base-uncased', num_labels=len(train_df_2['technique_label'].unique()))\n",
        "best_bert_multi, best_config_multi = tune_hyperparameters(train_bert, bert_model, train_data_2, test_data_2, configs)"
      ]
    },
    {
      "cell_type": "markdown",
      "metadata": {},
      "source": [
        "##### Best model's performance"
      ]
    },
    {
      "cell_type": "code",
      "execution_count": 47,
      "metadata": {
        "id": "jlTetycqqaVZ"
      },
      "outputs": [
        {
          "name": "stderr",
          "output_type": "stream",
          "text": [
            "100%|██████████| 20/20 [00:02<00:00,  7.41it/s]\n"
          ]
        },
        {
          "name": "stdout",
          "output_type": "stream",
          "text": [
            "Best loss: 0.073 | Best Accuracy: 0.670\n",
            "                           precision    recall  f1-score   support\n",
            "\n",
            " appeal_to_fear_prejudice       0.65      0.74      0.70        43\n",
            "causal_oversimplification       0.66      0.66      0.66        35\n",
            "                    doubt       0.72      0.65      0.68        43\n",
            "exaggeration,minimisation       0.58      0.63      0.60        30\n",
            "              flag_waving       0.82      0.71      0.76        45\n",
            "          loaded_language       0.59      0.62      0.60        39\n",
            "    name_calling,labeling       0.82      0.79      0.81        34\n",
            "               repetition       0.55      0.55      0.55        40\n",
            "\n",
            "                 accuracy                           0.67       309\n",
            "                macro avg       0.67      0.67      0.67       309\n",
            "             weighted avg       0.68      0.67      0.67       309\n",
            "\n"
          ]
        }
      ],
      "source": [
        "bert_model_report(best_bert_multi, test_data_2, best_config_multi[2], classes=encoder_2.classes_)"
      ]
    }
  ],
  "metadata": {
    "accelerator": "GPU",
    "colab": {
      "collapsed_sections": [
        "CrBHyDZICuNM",
        "CTab6xuNqaVP",
        "zEeztyjDFEFF",
        "5QfiIka4qaVQ",
        "EVZZn_vkFEFG",
        "7MdTbv0lFEFI",
        "SXhd0ADjGeQ4",
        "cKIxZudXqaVY",
        "4NkxNG8xFEFN",
        "AftVsWArDl1s"
      ],
      "gpuType": "T4",
      "provenance": []
    },
    "kernelspec": {
      "display_name": "Python 3",
      "name": "python3"
    },
    "language_info": {
      "codemirror_mode": {
        "name": "ipython",
        "version": 3
      },
      "file_extension": ".py",
      "mimetype": "text/x-python",
      "name": "python",
      "nbconvert_exporter": "python",
      "pygments_lexer": "ipython3",
      "version": "3.12.2"
    }
  },
  "nbformat": 4,
  "nbformat_minor": 0
}
